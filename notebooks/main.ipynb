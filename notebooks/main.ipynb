{
 "cells": [
  {
   "cell_type": "code",
   "execution_count": 145,
   "id": "initial_id",
   "metadata": {
    "collapsed": true,
    "ExecuteTime": {
     "end_time": "2023-08-24T03:53:53.275897Z",
     "start_time": "2023-08-24T03:53:53.219879Z"
    }
   },
   "outputs": [],
   "source": [
    "# WARNING: This cell *needs* to be run *first* for the rest of the notebook to work.\n",
    "import pandas as pd\n",
    "import matplotlib.pyplot as plt\n",
    "\n",
    "# Define the path to the source file\n",
    "source_file_path = '../data/raw/insurance.csv'"
   ]
  },
  {
   "cell_type": "markdown",
   "source": [
    "# Project Description\n",
    "\n",
    "For this project, you will be investigating a medical insurance costs dataset in a .csv file using the Python skills that you've developed. This dataset and its parameters will seem familiar if you've done any of the previous Python projects in the data science path.\n",
    "\n",
    "However, you're now tasked with working with the actual information in the dataset and performing your own independent analysis on real-world data! We will not be providing step-by-step instructions on what to do, but we will provide you with a framework to structure your exploration and analysis. For this project, you will be investigating a medical insurance costs dataset in a .csv file using the Python skills that you've developed. This dataset and its parameters will seem familiar if you've done any of the previous Python projects in the data science path.\n",
    "\n",
    "# Project Objectives\n",
    "\n",
    "- Work locally on your own computer\n",
    "- Import a dataset into your program\n",
    "- Analyze a dataset by building out functions or class methods\n",
    "- Use libraries to assist in your analysis\n",
    "- Optional: Document and organize your findings\n",
    "- Optional: Make predictions about a dataset’s features based on your findings\n",
    "\n",
    "# Personal Notes\n",
    "\n",
    "This project has an emphasis on the exploratory part of the data analysis process."
   ],
   "metadata": {
    "collapsed": false
   },
   "id": "29622a78cc8a391e"
  },
  {
   "cell_type": "markdown",
   "source": [
    "# Project: U.S. Medical Insurance Costs"
   ],
   "metadata": {
    "collapsed": false
   },
   "id": "71a8e7d65ef174a8"
  },
  {
   "cell_type": "markdown",
   "source": [
    "A dataset containing information on medical insurance costs for individuals in the United States was provided by Codecademy.\n",
    "To learn about the dataset, I first want to explore the data and get a feel for what it contains.\n",
    "\n",
    "The dataset will first be loaded into a dataframe using `pandas` a third-party library for data analysis and manipulation. I will also check the `head` of the dataframe and the `shape` (size and columns) of the dataframe."
   ],
   "metadata": {
    "collapsed": false
   },
   "id": "5fc261e917546f02"
  },
  {
   "cell_type": "code",
   "execution_count": 146,
   "outputs": [
    {
     "data": {
      "text/plain": "   age     sex     bmi  children smoker     region      charges\n0   19  female  27.900         0    yes  southwest  16884.92400\n1   18    male  33.770         1     no  southeast   1725.55230\n2   28    male  33.000         3     no  southeast   4449.46200\n3   33    male  22.705         0     no  northwest  21984.47061\n4   32    male  28.880         0     no  northwest   3866.85520",
      "text/html": "<div>\n<style scoped>\n    .dataframe tbody tr th:only-of-type {\n        vertical-align: middle;\n    }\n\n    .dataframe tbody tr th {\n        vertical-align: top;\n    }\n\n    .dataframe thead th {\n        text-align: right;\n    }\n</style>\n<table border=\"1\" class=\"dataframe\">\n  <thead>\n    <tr style=\"text-align: right;\">\n      <th></th>\n      <th>age</th>\n      <th>sex</th>\n      <th>bmi</th>\n      <th>children</th>\n      <th>smoker</th>\n      <th>region</th>\n      <th>charges</th>\n    </tr>\n  </thead>\n  <tbody>\n    <tr>\n      <th>0</th>\n      <td>19</td>\n      <td>female</td>\n      <td>27.900</td>\n      <td>0</td>\n      <td>yes</td>\n      <td>southwest</td>\n      <td>16884.92400</td>\n    </tr>\n    <tr>\n      <th>1</th>\n      <td>18</td>\n      <td>male</td>\n      <td>33.770</td>\n      <td>1</td>\n      <td>no</td>\n      <td>southeast</td>\n      <td>1725.55230</td>\n    </tr>\n    <tr>\n      <th>2</th>\n      <td>28</td>\n      <td>male</td>\n      <td>33.000</td>\n      <td>3</td>\n      <td>no</td>\n      <td>southeast</td>\n      <td>4449.46200</td>\n    </tr>\n    <tr>\n      <th>3</th>\n      <td>33</td>\n      <td>male</td>\n      <td>22.705</td>\n      <td>0</td>\n      <td>no</td>\n      <td>northwest</td>\n      <td>21984.47061</td>\n    </tr>\n    <tr>\n      <th>4</th>\n      <td>32</td>\n      <td>male</td>\n      <td>28.880</td>\n      <td>0</td>\n      <td>no</td>\n      <td>northwest</td>\n      <td>3866.85520</td>\n    </tr>\n  </tbody>\n</table>\n</div>"
     },
     "execution_count": 146,
     "metadata": {},
     "output_type": "execute_result"
    }
   ],
   "source": [
    "main_df = pd.read_csv(source_file_path)\n",
    "main_df.head()"
   ],
   "metadata": {
    "collapsed": false,
    "ExecuteTime": {
     "end_time": "2023-08-24T03:53:53.290594Z",
     "start_time": "2023-08-24T03:53:53.228043Z"
    }
   },
   "id": "7a9f50a491773b5a"
  },
  {
   "cell_type": "code",
   "execution_count": 147,
   "outputs": [
    {
     "data": {
      "text/plain": "(1338, 7)"
     },
     "execution_count": 147,
     "metadata": {},
     "output_type": "execute_result"
    }
   ],
   "source": [
    "main_df.shape"
   ],
   "metadata": {
    "collapsed": false,
    "ExecuteTime": {
     "end_time": "2023-08-24T03:53:53.343709Z",
     "start_time": "2023-08-24T03:53:53.235200Z"
    }
   },
   "id": "72f0e215d8fca031"
  },
  {
   "cell_type": "markdown",
   "source": [
    "# Cleanup"
   ],
   "metadata": {
    "collapsed": false
   },
   "id": "fadd196a7929cda1"
  },
  {
   "cell_type": "markdown",
   "source": [
    "## Check for null or missing values\n",
    "\n",
    "The first step in the cleanup is to check for any missing values.\n",
    "If there are any missing values, we will need to drop them.\n",
    "I don't want to jeopardize the integrity of the data by filling in missing values with a guess."
   ],
   "metadata": {
    "collapsed": false
   },
   "id": "ef56289f65c5fb75"
  },
  {
   "cell_type": "code",
   "execution_count": 148,
   "outputs": [
    {
     "name": "stdout",
     "output_type": "stream",
     "text": [
      "No null or missing values found\n"
     ]
    }
   ],
   "source": [
    "if main_df.isnull().values.any():\n",
    "    print(main_df[main_df.isnull().any(axis=1)])\n",
    "    main_df.dropna(inplace=True)\n",
    "else:\n",
    "    print('No null or missing values found')"
   ],
   "metadata": {
    "collapsed": false,
    "ExecuteTime": {
     "end_time": "2023-08-24T03:53:53.344815Z",
     "start_time": "2023-08-24T03:53:53.239011Z"
    }
   },
   "id": "fd249fb953856336"
  },
  {
   "cell_type": "markdown",
   "source": [
    "## Check for duplicates\n",
    "\n",
    "The next step in the cleanup is to check for any duplicate values.\n",
    "If there are any duplicate values, we will need to drop them.\n",
    "I will only drop one of the duplicate values, so that I can keep the other one."
   ],
   "metadata": {
    "collapsed": false
   },
   "id": "e3e0cba0a674b7cb"
  },
  {
   "cell_type": "code",
   "execution_count": 149,
   "outputs": [
    {
     "name": "stdout",
     "output_type": "stream",
     "text": [
      "     age   sex    bmi  children smoker     region    charges\n",
      "581   19  male  30.59         0     no  northwest  1639.5631\n"
     ]
    }
   ],
   "source": [
    "if main_df.duplicated().any():\n",
    "    print(main_df[main_df.duplicated()])\n",
    "    main_df.drop_duplicates(inplace=True)\n",
    "else:\n",
    "    print('No duplicate values found')"
   ],
   "metadata": {
    "collapsed": false,
    "ExecuteTime": {
     "end_time": "2023-08-24T03:53:53.345804Z",
     "start_time": "2023-08-24T03:53:53.242374Z"
    }
   },
   "id": "e533ed813777fd09"
  },
  {
   "cell_type": "markdown",
   "source": [
    "## Post cleanup\n",
    "\n",
    "After the cleanup, I want to know the size of the dataset again."
   ],
   "metadata": {
    "collapsed": false
   },
   "id": "4a2fe5070fc332d5"
  },
  {
   "cell_type": "code",
   "execution_count": 150,
   "outputs": [
    {
     "data": {
      "text/plain": "(1337, 7)"
     },
     "execution_count": 150,
     "metadata": {},
     "output_type": "execute_result"
    }
   ],
   "source": [
    "main_df.shape"
   ],
   "metadata": {
    "collapsed": false,
    "ExecuteTime": {
     "end_time": "2023-08-24T03:53:53.345965Z",
     "start_time": "2023-08-24T03:53:53.247908Z"
    }
   },
   "id": "e2db59f540659bf3"
  },
  {
   "cell_type": "markdown",
   "source": [
    "# Understanding the data\n",
    "\n",
    "To have a good dimension of the data, I will now use the `info` function on the `main_df` dataframe."
   ],
   "metadata": {
    "collapsed": false
   },
   "id": "e18daae89551224b"
  },
  {
   "cell_type": "code",
   "execution_count": 151,
   "outputs": [
    {
     "name": "stdout",
     "output_type": "stream",
     "text": [
      "<class 'pandas.core.frame.DataFrame'>\n",
      "Index: 1337 entries, 0 to 1337\n",
      "Data columns (total 7 columns):\n",
      " #   Column    Non-Null Count  Dtype  \n",
      "---  ------    --------------  -----  \n",
      " 0   age       1337 non-null   int64  \n",
      " 1   sex       1337 non-null   object \n",
      " 2   bmi       1337 non-null   float64\n",
      " 3   children  1337 non-null   int64  \n",
      " 4   smoker    1337 non-null   object \n",
      " 5   region    1337 non-null   object \n",
      " 6   charges   1337 non-null   float64\n",
      "dtypes: float64(2), int64(2), object(3)\n",
      "memory usage: 83.6+ KB\n"
     ]
    }
   ],
   "source": [
    "main_df.info()"
   ],
   "metadata": {
    "collapsed": false,
    "ExecuteTime": {
     "end_time": "2023-08-24T03:53:53.347779Z",
     "start_time": "2023-08-24T03:53:53.253438Z"
    }
   },
   "id": "8253b6e473599d33"
  },
  {
   "cell_type": "markdown",
   "source": [
    "## Interpretation\n",
    "\n",
    "From the `info` function, I can see that there are 1337 rows and 7 columns. These columns possess the following data types:\n",
    "\n",
    "| Column   | Data Type | Nullable |\n",
    "|----------|-----------|----------|\n",
    "| age      | int64     | non-null |\n",
    "| sex      | object    | non-null |\n",
    "| bmi      | float64   | non-null |\n",
    "| children | int64     | non-null |\n",
    "| smoker   | object    | non-null |\n",
    "| region   | object    | non-null |\n",
    "| charges  | float64   | non-null |\n",
    "\n",
    "Additionally, Codecademy provided the following information about the dataset:\n",
    "- There are no missing data.\n",
    "- There are seven columns.\n",
    "- Some columns are numerical while some are categorical."
   ],
   "metadata": {
    "collapsed": false
   },
   "id": "a665224c5beb9b51"
  },
  {
   "cell_type": "markdown",
   "source": [
    "## What I would change about the dataset\n",
    "\n",
    "I would change the data type of `sex` and `smoker` fields to be a `bool`, `smallint`, or any other type of integer with a low-value rate. This should optimice the storage and also the performance of the dataset."
   ],
   "metadata": {
    "collapsed": false
   },
   "id": "3ef57ecdfa6a6c07"
  },
  {
   "cell_type": "markdown",
   "source": [
    "# Exploring the data\n",
    "\n",
    "This section will be divided into 2 parts, Numerical and Categorical.\n",
    "These parts will cover base statics as well as relations."
   ],
   "metadata": {
    "collapsed": false
   },
   "id": "b8d6e0366d678187"
  },
  {
   "cell_type": "markdown",
   "source": [
    "## Numerical Fields\n",
    "\n",
    "Finding the average, median, mode and standard deviation of each numerical field is the first step I'm going to take on the exploration of the data.\n",
    "Using the `describe` function from `pandas` I can get all the values I need, since it only works on numerical fields."
   ],
   "metadata": {
    "collapsed": false
   },
   "id": "3faeb6c8e1803438"
  },
  {
   "cell_type": "code",
   "execution_count": 152,
   "outputs": [
    {
     "data": {
      "text/plain": "               age          bmi     children       charges\ncount  1337.000000  1337.000000  1337.000000   1337.000000\nmean     39.222139    30.663452     1.095737  13279.121487\nstd      14.044333     6.100468     1.205571  12110.359656\nmin      18.000000    15.960000     0.000000   1121.873900\n25%      27.000000    26.290000     0.000000   4746.344000\n50%      39.000000    30.400000     1.000000   9386.161300\n75%      51.000000    34.700000     2.000000  16657.717450\nmax      64.000000    53.130000     5.000000  63770.428010",
      "text/html": "<div>\n<style scoped>\n    .dataframe tbody tr th:only-of-type {\n        vertical-align: middle;\n    }\n\n    .dataframe tbody tr th {\n        vertical-align: top;\n    }\n\n    .dataframe thead th {\n        text-align: right;\n    }\n</style>\n<table border=\"1\" class=\"dataframe\">\n  <thead>\n    <tr style=\"text-align: right;\">\n      <th></th>\n      <th>age</th>\n      <th>bmi</th>\n      <th>children</th>\n      <th>charges</th>\n    </tr>\n  </thead>\n  <tbody>\n    <tr>\n      <th>count</th>\n      <td>1337.000000</td>\n      <td>1337.000000</td>\n      <td>1337.000000</td>\n      <td>1337.000000</td>\n    </tr>\n    <tr>\n      <th>mean</th>\n      <td>39.222139</td>\n      <td>30.663452</td>\n      <td>1.095737</td>\n      <td>13279.121487</td>\n    </tr>\n    <tr>\n      <th>std</th>\n      <td>14.044333</td>\n      <td>6.100468</td>\n      <td>1.205571</td>\n      <td>12110.359656</td>\n    </tr>\n    <tr>\n      <th>min</th>\n      <td>18.000000</td>\n      <td>15.960000</td>\n      <td>0.000000</td>\n      <td>1121.873900</td>\n    </tr>\n    <tr>\n      <th>25%</th>\n      <td>27.000000</td>\n      <td>26.290000</td>\n      <td>0.000000</td>\n      <td>4746.344000</td>\n    </tr>\n    <tr>\n      <th>50%</th>\n      <td>39.000000</td>\n      <td>30.400000</td>\n      <td>1.000000</td>\n      <td>9386.161300</td>\n    </tr>\n    <tr>\n      <th>75%</th>\n      <td>51.000000</td>\n      <td>34.700000</td>\n      <td>2.000000</td>\n      <td>16657.717450</td>\n    </tr>\n    <tr>\n      <th>max</th>\n      <td>64.000000</td>\n      <td>53.130000</td>\n      <td>5.000000</td>\n      <td>63770.428010</td>\n    </tr>\n  </tbody>\n</table>\n</div>"
     },
     "execution_count": 152,
     "metadata": {},
     "output_type": "execute_result"
    }
   ],
   "source": [
    "main_df.describe()"
   ],
   "metadata": {
    "collapsed": false,
    "ExecuteTime": {
     "end_time": "2023-08-24T03:53:53.362011Z",
     "start_time": "2023-08-24T03:53:53.256363Z"
    }
   },
   "id": "44e3dc0251947940"
  },
  {
   "cell_type": "markdown",
   "source": [
    "### Visualization\n",
    "\n",
    "Since this is only an exploratory project, I will make some plots to visualize the data. This is merely demonstrative and was not an original parameter of the project.\n",
    "\n",
    "I want to make 2 types of plots:\n",
    "- A box plot for each numerical field.\n",
    "- A histogram for each numerical field."
   ],
   "metadata": {
    "collapsed": false
   },
   "id": "a18117ed9d73e21f"
  },
  {
   "cell_type": "markdown",
   "source": [
    "#### Box Plots"
   ],
   "metadata": {
    "collapsed": false
   },
   "id": "ed52e06e5843ecf9"
  },
  {
   "cell_type": "code",
   "execution_count": 153,
   "outputs": [
    {
     "data": {
      "text/plain": "<Figure size 1000x1000 with 4 Axes>",
      "image/png": "[encoded data removed]"
     },
     "metadata": {},
     "output_type": "display_data"
    }
   ],
   "source": [
    "def create_box_plots_numerical_fields():\n",
    "    fig, axes = plt.subplots(2, 2, figsize=(10, 10))\n",
    "\n",
    "    axes[0, 0].boxplot(main_df['age'], vert=False)\n",
    "    axes[0, 0].set_title('Age')\n",
    "    \n",
    "    axes[0, 1].boxplot(main_df['bmi'], vert=False)\n",
    "    axes[0, 1].set_title('BMI')\n",
    "    \n",
    "    axes[1, 0].boxplot(main_df['children'], vert=False)\n",
    "    axes[1, 0].set_title('Children')\n",
    "    \n",
    "    axes[1, 1].boxplot(main_df['charges'], vert=False)\n",
    "    axes[1, 1].set_title('Charges')\n",
    "    \n",
    "    plt.show()\n",
    "    \n",
    "create_box_plots_numerical_fields()"
   ],
   "metadata": {
    "collapsed": false,
    "ExecuteTime": {
     "end_time": "2023-08-24T03:53:53.496944Z",
     "start_time": "2023-08-24T03:53:53.292931Z"
    }
   },
   "id": "54e7c60db373208"
  },
  {
   "cell_type": "markdown",
   "source": [
    "#### Histograms"
   ],
   "metadata": {
    "collapsed": false
   },
   "id": "e6dfc95f08734114"
  },
  {
   "cell_type": "code",
   "execution_count": 154,
   "outputs": [
    {
     "data": {
      "text/plain": "<Figure size 1000x1000 with 4 Axes>",
      "image/png": "[encoded data removed]"
     },
     "metadata": {},
     "output_type": "display_data"
    }
   ],
   "source": [
    "def create_histograms_numerical_fields():\n",
    "    fig, axes = plt.subplots(2, 2, figsize=(10, 10))\n",
    "\n",
    "    axes[0, 0].hist(main_df['age'])\n",
    "    axes[0, 0].set_title('Age')\n",
    "    \n",
    "    axes[0, 1].hist(main_df['bmi'])\n",
    "    axes[0, 1].set_title('BMI')\n",
    "    \n",
    "    axes[1, 0].hist(main_df['children'])\n",
    "    axes[1, 0].set_title('Children')\n",
    "    \n",
    "    axes[1, 1].hist(main_df['charges'])\n",
    "    axes[1, 1].set_title('Charges')\n",
    "    \n",
    "    plt.show()\n",
    "    \n",
    "create_histograms_numerical_fields()"
   ],
   "metadata": {
    "collapsed": false,
    "ExecuteTime": {
     "end_time": "2023-08-24T03:53:53.742777Z",
     "start_time": "2023-08-24T03:53:53.465499Z"
    }
   },
   "id": "2a4429cdabfd4e56"
  },
  {
   "cell_type": "markdown",
   "source": [
    "## Categorical Fields\n",
    "\n",
    "Categorical fields are different, in the sense that their values can't be directly compared to each other.\n",
    "For that reason, I'm going to explore the statistics of the different values for each categorical field."
   ],
   "metadata": {
    "collapsed": false
   },
   "id": "c39b7880705ea808"
  },
  {
   "cell_type": "markdown",
   "source": [
    "### Unique field values\n",
    "\n",
    "I will start by getting the different values for each categorical field"
   ],
   "metadata": {
    "collapsed": false
   },
   "id": "980885a0bc53d236"
  },
  {
   "cell_type": "code",
   "execution_count": 155,
   "outputs": [
    {
     "data": {
      "text/plain": "array(['female', 'male'], dtype=object)"
     },
     "execution_count": 155,
     "metadata": {},
     "output_type": "execute_result"
    }
   ],
   "source": [
    "main_df['sex'].unique()"
   ],
   "metadata": {
    "collapsed": false,
    "ExecuteTime": {
     "end_time": "2023-08-24T03:53:53.743129Z",
     "start_time": "2023-08-24T03:53:53.730142Z"
    }
   },
   "id": "91df61434dfc2ce3"
  },
  {
   "cell_type": "code",
   "execution_count": 156,
   "outputs": [
    {
     "data": {
      "text/plain": "array(['yes', 'no'], dtype=object)"
     },
     "execution_count": 156,
     "metadata": {},
     "output_type": "execute_result"
    }
   ],
   "source": [
    "main_df['smoker'].unique()"
   ],
   "metadata": {
    "collapsed": false,
    "ExecuteTime": {
     "end_time": "2023-08-24T03:53:53.743266Z",
     "start_time": "2023-08-24T03:53:53.734860Z"
    }
   },
   "id": "4beb23ff1b54d39a"
  },
  {
   "cell_type": "code",
   "execution_count": 157,
   "outputs": [
    {
     "data": {
      "text/plain": "array(['southwest', 'southeast', 'northwest', 'northeast'], dtype=object)"
     },
     "execution_count": 157,
     "metadata": {},
     "output_type": "execute_result"
    }
   ],
   "source": [
    "main_df['region'].unique()"
   ],
   "metadata": {
    "collapsed": false,
    "ExecuteTime": {
     "end_time": "2023-08-24T03:53:53.743404Z",
     "start_time": "2023-08-24T03:53:53.738129Z"
    }
   },
   "id": "7e5bbb8ad063b320"
  },
  {
   "cell_type": "markdown",
   "source": [
    "### Exploration\n",
    "\n",
    "After finding the unique values for each field, now I can explore the data.\n",
    "For this, I will also implement numpy functions.\n",
    "\n",
    "For each unique value, I will get the following:\n",
    "- The number of times it appears in the dataset.\n",
    "- The percentage of times it appears in the dataset.\n",
    "\n",
    "I will create a function that will return the information in the form of a DataFrame."
   ],
   "metadata": {
    "collapsed": false
   },
   "id": "e1cfb694b05a86a"
  },
  {
   "cell_type": "code",
   "execution_count": 158,
   "outputs": [],
   "source": [
    "def explore_category(field_name):\n",
    "    values = main_df[field_name].value_counts()\n",
    "    total_values = values.sum()\n",
    "    percentages = round(values / total_values * 100, 2)\n",
    "    \n",
    "    summary = pd.DataFrame({\n",
    "        'Values': values,\n",
    "        'Percentages': percentages\n",
    "    })\n",
    "    \n",
    "    return summary"
   ],
   "metadata": {
    "collapsed": false,
    "ExecuteTime": {
     "end_time": "2023-08-24T03:53:53.745781Z",
     "start_time": "2023-08-24T03:53:53.741983Z"
    }
   },
   "id": "ba9dacf54549c54f"
  },
  {
   "cell_type": "code",
   "execution_count": 159,
   "outputs": [
    {
     "data": {
      "text/plain": "        Values  Percentages\nsex                        \nmale       675        50.49\nfemale     662        49.51",
      "text/html": "<div>\n<style scoped>\n    .dataframe tbody tr th:only-of-type {\n        vertical-align: middle;\n    }\n\n    .dataframe tbody tr th {\n        vertical-align: top;\n    }\n\n    .dataframe thead th {\n        text-align: right;\n    }\n</style>\n<table border=\"1\" class=\"dataframe\">\n  <thead>\n    <tr style=\"text-align: right;\">\n      <th></th>\n      <th>Values</th>\n      <th>Percentages</th>\n    </tr>\n    <tr>\n      <th>sex</th>\n      <th></th>\n      <th></th>\n    </tr>\n  </thead>\n  <tbody>\n    <tr>\n      <th>male</th>\n      <td>675</td>\n      <td>50.49</td>\n    </tr>\n    <tr>\n      <th>female</th>\n      <td>662</td>\n      <td>49.51</td>\n    </tr>\n  </tbody>\n</table>\n</div>"
     },
     "execution_count": 159,
     "metadata": {},
     "output_type": "execute_result"
    }
   ],
   "source": [
    "explore_category('sex')"
   ],
   "metadata": {
    "collapsed": false,
    "ExecuteTime": {
     "end_time": "2023-08-24T03:53:53.840629Z",
     "start_time": "2023-08-24T03:53:53.748432Z"
    }
   },
   "id": "241af6bccd1a3da1"
  },
  {
   "cell_type": "code",
   "execution_count": 160,
   "outputs": [
    {
     "data": {
      "text/plain": "        Values  Percentages\nsmoker                     \nno        1063        79.51\nyes        274        20.49",
      "text/html": "<div>\n<style scoped>\n    .dataframe tbody tr th:only-of-type {\n        vertical-align: middle;\n    }\n\n    .dataframe tbody tr th {\n        vertical-align: top;\n    }\n\n    .dataframe thead th {\n        text-align: right;\n    }\n</style>\n<table border=\"1\" class=\"dataframe\">\n  <thead>\n    <tr style=\"text-align: right;\">\n      <th></th>\n      <th>Values</th>\n      <th>Percentages</th>\n    </tr>\n    <tr>\n      <th>smoker</th>\n      <th></th>\n      <th></th>\n    </tr>\n  </thead>\n  <tbody>\n    <tr>\n      <th>no</th>\n      <td>1063</td>\n      <td>79.51</td>\n    </tr>\n    <tr>\n      <th>yes</th>\n      <td>274</td>\n      <td>20.49</td>\n    </tr>\n  </tbody>\n</table>\n</div>"
     },
     "execution_count": 160,
     "metadata": {},
     "output_type": "execute_result"
    }
   ],
   "source": [
    "explore_category('smoker')"
   ],
   "metadata": {
    "collapsed": false,
    "ExecuteTime": {
     "end_time": "2023-08-24T03:53:53.841007Z",
     "start_time": "2023-08-24T03:53:53.752946Z"
    }
   },
   "id": "aaa944e6fcf991b3"
  },
  {
   "cell_type": "code",
   "execution_count": 161,
   "outputs": [
    {
     "data": {
      "text/plain": "           Values  Percentages\nregion                        \nsoutheast     364        27.23\nsouthwest     325        24.31\nnorthwest     324        24.23\nnortheast     324        24.23",
      "text/html": "<div>\n<style scoped>\n    .dataframe tbody tr th:only-of-type {\n        vertical-align: middle;\n    }\n\n    .dataframe tbody tr th {\n        vertical-align: top;\n    }\n\n    .dataframe thead th {\n        text-align: right;\n    }\n</style>\n<table border=\"1\" class=\"dataframe\">\n  <thead>\n    <tr style=\"text-align: right;\">\n      <th></th>\n      <th>Values</th>\n      <th>Percentages</th>\n    </tr>\n    <tr>\n      <th>region</th>\n      <th></th>\n      <th></th>\n    </tr>\n  </thead>\n  <tbody>\n    <tr>\n      <th>southeast</th>\n      <td>364</td>\n      <td>27.23</td>\n    </tr>\n    <tr>\n      <th>southwest</th>\n      <td>325</td>\n      <td>24.31</td>\n    </tr>\n    <tr>\n      <th>northwest</th>\n      <td>324</td>\n      <td>24.23</td>\n    </tr>\n    <tr>\n      <th>northeast</th>\n      <td>324</td>\n      <td>24.23</td>\n    </tr>\n  </tbody>\n</table>\n</div>"
     },
     "execution_count": 161,
     "metadata": {},
     "output_type": "execute_result"
    }
   ],
   "source": [
    "explore_category('region')"
   ],
   "metadata": {
    "collapsed": false,
    "ExecuteTime": {
     "end_time": "2023-08-24T03:53:53.841518Z",
     "start_time": "2023-08-24T03:53:53.757760Z"
    }
   },
   "id": "981dca3d884ba4a0"
  },
  {
   "cell_type": "markdown",
   "source": [
    "### Visualization\n",
    "\n",
    "I want to make visualizations for each categorical field too.\n",
    "These visualizations will be in the form of pie charts, since the information they display is much simpler than the numerical fields."
   ],
   "metadata": {
    "collapsed": false
   },
   "id": "8e154602e119d026"
  },
  {
   "cell_type": "code",
   "execution_count": 162,
   "outputs": [
    {
     "data": {
      "text/plain": "<Figure size 1500x500 with 3 Axes>",
      "image/png": "[encoded data removed]"
     },
     "metadata": {},
     "output_type": "display_data"
    }
   ],
   "source": [
    "def create_pie_charts_categorical_fields():\n",
    "    fig, axes = plt.subplots(nrows=1, ncols=3, figsize=(15, 5))\n",
    "        \n",
    "    axes[0].pie(explore_category('sex')['Values'], labels=explore_category('sex').index, autopct='%1.1f%%', startangle=90)\n",
    "    axes[1].pie(explore_category('smoker')['Values'], labels=explore_category('smoker').index, autopct='%1.1f%%', startangle=90)\n",
    "    axes[2].pie(explore_category('region')['Values'], labels=explore_category('region').index, autopct='%1.1f%%', startangle=90)\n",
    "    \n",
    "    plt.tight_layout()\n",
    "    plt.show()\n",
    "    \n",
    "create_pie_charts_categorical_fields()"
   ],
   "metadata": {
    "collapsed": false,
    "ExecuteTime": {
     "end_time": "2023-08-24T03:53:53.978822Z",
     "start_time": "2023-08-24T03:53:53.763590Z"
    }
   },
   "id": "9ca9518919c15392"
  },
  {
   "cell_type": "markdown",
   "source": [
    "# Relationships\n",
    "\n",
    "For the last part of the exploration, I want to find relationships between the different fields.\n",
    "The relationships I will be looking for are for all the fields against the `charges` field.\n",
    "\n",
    "This could give an insight in a inferential analysis of the data."
   ],
   "metadata": {
    "collapsed": false
   },
   "id": "c1bbffae60dcf2ee"
  },
  {
   "cell_type": "markdown",
   "source": [],
   "metadata": {
    "collapsed": false
   },
   "id": "4ae2be2b9da13268"
  }
 ],
 "metadata": {
  "kernelspec": {
   "display_name": "Python 3",
   "language": "python",
   "name": "python3"
  },
  "language_info": {
   "codemirror_mode": {
    "name": "ipython",
    "version": 2
   },
   "file_extension": ".py",
   "mimetype": "text/x-python",
   "name": "python",
   "nbconvert_exporter": "python",
   "pygments_lexer": "ipython2",
   "version": "2.7.6"
  }
 },
 "nbformat": 4,
 "nbformat_minor": 5
}
