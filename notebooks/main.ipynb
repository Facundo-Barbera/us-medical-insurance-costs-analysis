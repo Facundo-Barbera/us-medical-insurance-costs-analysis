{
 "cells": [
  {
   "cell_type": "markdown",
   "id": "21546a441be29071",
   "metadata": {
    "collapsed": false
   },
   "source": [
    "<a id='title'></a>\n",
    "# Project: U.S. Medical Insurance Costs"
   ]
  },
  {
   "cell_type": "markdown",
   "id": "d732052ab5ac4d82",
   "metadata": {
    "collapsed": false
   },
   "source": [
    "<a id='table-of-contents'></a>\n",
    "# Table of contents\n",
    "\n",
    "- [Project: U.S. Medical Insurance Costs](#title)\n",
    "- [Table of contents](#table-of-contents)\n",
    "- [Introduction](#introduction)\n",
    "  - [Project Description](#project-description)\n",
    "  - [Project Objectives](#project-objectives)\n",
    "  - [Personal Notes](#personal-notes)\n",
    "    - [Challenges](#challenges)\n",
    "    - [Learning goals](#learning-goals)\n",
    "  - [Project Setup](#project-setup)\n",
    "- [Initial Data Exploration](#initial-data-exploration)\n",
    "  - [Quick Data Overview](#quick-data-overview)\n",
    "  - [Data Dimensions](#data-dimensions)\n",
    "  - [Handling Null Values](#handling-null-values)\n",
    "  - [Removing Duplicate Values](#removing-duplicate-values)  \n",
    "  - [Data Dimensions After Cleaning](#data-dimentions-after-cleaning) \n",
    "- [Exploratory Data Analysis](#exploratory-data-analysis)\n",
    "  - [Data Types](#data-types)\n",
    "  - [Univariate Analysis](#univariate-analysis)\n",
    "    - [Descriptive Statistics](#descriptive-statistics)\n",
    "    - [Histograms (Numerical Variables)](#histograms)\n",
    "    - [Bar Charts (Categorical Variables)](#bar-charts)\n",
    "    - [Interpretation of Univariate Analysis (Numerical Variables)](#interpretation-of-univariate-analysis-numerical)\n",
    "      - [Age](#univariate-age)\n",
    "      - [BMI](#univartiate-bmi)\n",
    "      - [Children](#uniariate-children)\n",
    "      - [Charges](#univariate-charges)\n",
    "    - [Interpretation of Univariate Analysis (Categorical Variables)](#interpretation-of-univariate-analysis-categorical)\n",
    "        - [Sex](#univariate-sex)\n",
    "        - [Smoker](#univariate-smoker)\n",
    "        - [Region](#univariate-region)\n",
    "  - [Bivariate Analysis](#bivariate-analysis)\n",
    "  - [Correlation Analysis](#corrleation-analysis)\n",
    "  - [Categorical Analysis](#categorical-analysis)\n",
    "  - [Summary of the Exploratory Data Analysis findings](#summary-of-eda-findings)"
   ]
  },
  {
   "cell_type": "markdown",
   "source": [
    "<a id='introduction'></a>\n",
    "# Introduction"
   ],
   "metadata": {
    "collapsed": false
   },
   "id": "a1c03317c2eea333"
  },
  {
   "cell_type": "markdown",
   "id": "5e3489573e731258",
   "metadata": {
    "collapsed": false
   },
   "source": [
    "<a id='project-description'></a>\n",
    "## Project Description\n",
    "\n",
    "For this project, you will be investigating a medical insurance costs dataset in a .csv file using the Python skills that you've developed. This dataset and its parameters will seem familiar if you've done any of the previous Python projects in the data science path.\n",
    "\n",
    "However, you're now tasked with working with the actual information in the dataset and performing your own independent analysis on real-world data! We will not be providing step-by-step instructions on what to do, but we will provide you with a framework to structure your exploration and analysis. For this project, you will be investigating a medical insurance costs dataset in a .csv file using the Python skills that you've developed. This dataset and its parameters will seem familiar if you've done any of the previous Python projects in the data science path.\n",
    "\n"
   ]
  },
  {
   "cell_type": "markdown",
   "source": [
    "<a id='project-objectives'></a>\n",
    "## Project Objectives\n",
    "\n",
    "- Work locally on your own computer\n",
    "- Import a dataset into your program\n",
    "- Analyze a dataset by building out functions or class methods\n",
    "- Use libraries to assist in your analysis\n",
    "- Optional: Document and organize your findings\n",
    "- Optional: Make predictions about a dataset’s features based on your findings"
   ],
   "metadata": {
    "collapsed": false
   },
   "id": "3b27fe9704a70a9b"
  },
  {
   "cell_type": "markdown",
   "source": [
    "<a id='personal-notes'></a>\n",
    "## Personal Notes"
   ],
   "metadata": {
    "collapsed": false
   },
   "id": "5436e9e0976bd045"
  },
  {
   "cell_type": "markdown",
   "source": [
    "<a id='challenges'></a>\n",
    "### Challenges\n",
    "- This is intended to be a \"growing\" project. While it won't be updated regularly post-completion, any critical improvements or updates deemed necessary will be implemented during the project phase.\n",
    "- This is my first experience working with Git branches, which presents a learning curve for managing different versions of the project effectively."
   ],
   "metadata": {
    "collapsed": false
   },
   "id": "52b30964658ae092"
  },
  {
   "cell_type": "markdown",
   "source": [
    "<a id='learning-goals'></a>\n",
    "### Learning goals\n",
    "- Enhance my skills in exploratory data analysis, focusing on the variables and objectives specified by the project description.\n",
    "- Learn the basics of Git branching to manage different stages and updates of this project effectively. This aligns with the challenge of using Git repositories for the first time and will be an invaluable skill for future projects. This will mostly be done using GitHub.\n"
   ],
   "metadata": {
    "collapsed": false
   },
   "id": "29622a78cc8a391e"
  },
  {
   "cell_type": "markdown",
   "id": "771e6bc5d23a73b4",
   "metadata": {
    "collapsed": false
   },
   "source": [
    "<a id='project-setup'></a>\n",
    "## Project Setup\n",
    "\n",
    "This first code cell will be used to import the necessary libraries and load the dataset into a dataframe."
   ]
  },
  {
   "cell_type": "code",
   "execution_count": 805,
   "id": "7528a261a71863d9",
   "metadata": {
    "collapsed": false,
    "ExecuteTime": {
     "end_time": "2023-09-14T05:42:25.542848Z",
     "start_time": "2023-09-14T05:42:25.372525Z"
    }
   },
   "outputs": [
    {
     "name": "stdout",
     "output_type": "stream",
     "text": [
      "   age     sex     bmi  children smoker     region      charges\n",
      "0   19  female  27.900         0    yes  southwest  16884.92400\n",
      "1   18    male  33.770         1     no  southeast   1725.55230\n",
      "2   28    male  33.000         3     no  southeast   4449.46200\n",
      "3   33    male  22.705         0     no  northwest  21984.47061\n",
      "4   32    male  28.880         0     no  northwest   3866.85520\n",
      "Pandas version: 2.0.3\n",
      "Matplotlib version: 3.7.2\n"
     ]
    }
   ],
   "source": [
    "# WARNING: This cell *needs* to be run *first* for the rest of the notebook to work.\n",
    "import pandas as pd\n",
    "import matplotlib.pyplot as plt\n",
    "\n",
    "# Define the paths to the data files\n",
    "data_path = '../data'\n",
    "raw_data_path = data_path + '/raw'\n",
    "processed_data_path = data_path + '/processed'\n",
    "\n",
    "# Define the path to the source file\n",
    "source_file_path = raw_data_path + '/data.csv'\n",
    "\n",
    "# Error handling for the source file\n",
    "try:\n",
    "    # Load the source file into a dataframe\n",
    "    main_df = pd.read_csv(source_file_path)\n",
    "    \n",
    "    # Peek at the first five rows of the dataframe\n",
    "    print(main_df.head())\n",
    "except FileNotFoundError:\n",
    "    print('The source file was not found')\n",
    "    \n",
    "# Library versions\n",
    "print(f'Pandas version: {pd.__version__}')\n",
    "print(f'Matplotlib version: {plt.matplotlib.__version__}')    "
   ]
  },
  {
   "cell_type": "markdown",
   "source": [
    "<a id='initial-data-exploration'></a>\n",
    "# Initial Data Exploration"
   ],
   "metadata": {
    "collapsed": false
   },
   "id": "e2e1539b55e574e7"
  },
  {
   "cell_type": "markdown",
   "source": [
    "<a id='quick-data-overview'></a>\n",
    "## Quick Data Overview\n",
    "\n",
    "Before diving into an analysis of the data, it's important to get an initial feel for the data. This gives an idea of what the data looks like."
   ],
   "metadata": {
    "collapsed": false
   },
   "id": "2b48ab5d8d4db808"
  },
  {
   "cell_type": "code",
   "execution_count": 806,
   "outputs": [
    {
     "name": "stdout",
     "output_type": "stream",
     "text": [
      "   age     sex     bmi  children smoker     region      charges\n",
      "0   19  female  27.900         0    yes  southwest  16884.92400\n",
      "1   18    male  33.770         1     no  southeast   1725.55230\n",
      "2   28    male  33.000         3     no  southeast   4449.46200\n",
      "3   33    male  22.705         0     no  northwest  21984.47061\n",
      "4   32    male  28.880         0     no  northwest   3866.85520\n"
     ]
    }
   ],
   "source": [
    "# Display the head of the dataframe\n",
    "print(main_df.head())"
   ],
   "metadata": {
    "collapsed": false,
    "ExecuteTime": {
     "end_time": "2023-09-14T05:42:25.630770Z",
     "start_time": "2023-09-14T05:42:25.384269Z"
    }
   },
   "id": "60552f5d5a882163"
  },
  {
   "cell_type": "code",
   "execution_count": 807,
   "outputs": [
    {
     "name": "stdout",
     "output_type": "stream",
     "text": [
      "      age     sex    bmi  children smoker     region     charges\n",
      "1333   50    male  30.97         3     no  northwest  10600.5483\n",
      "1334   18  female  31.92         0     no  northeast   2205.9808\n",
      "1335   18  female  36.85         0     no  southeast   1629.8335\n",
      "1336   21  female  25.80         0     no  southwest   2007.9450\n",
      "1337   61  female  29.07         0    yes  northwest  29141.3603\n"
     ]
    }
   ],
   "source": [
    "# Display the tail of the dataframe\n",
    "print(main_df.tail())"
   ],
   "metadata": {
    "collapsed": false,
    "ExecuteTime": {
     "end_time": "2023-09-14T05:42:25.632813Z",
     "start_time": "2023-09-14T05:42:25.387300Z"
    }
   },
   "id": "dd3c17ec203fa6a7"
  },
  {
   "cell_type": "markdown",
   "source": [
    "At a first glance, the dataset seems to be fairly clean. There are no obvious issues and the values are all within a reasonable range."
   ],
   "metadata": {
    "collapsed": false
   },
   "id": "7160e4cf7b9fc50b"
  },
  {
   "cell_type": "markdown",
   "source": [
    "<a id='data-dimensions'></a>\n",
    "## Data Dimensions\n",
    "\n",
    "Knowing the shape of the dataset helps to understand the size. This is important for understanding the usage of computational resources."
   ],
   "metadata": {
    "collapsed": false
   },
   "id": "fee9fb27a948ece"
  },
  {
   "cell_type": "code",
   "execution_count": 808,
   "outputs": [
    {
     "name": "stdout",
     "output_type": "stream",
     "text": [
      "(1338, 7)\n"
     ]
    }
   ],
   "source": [
    "# Display the shape of the dataframe\n",
    "print(main_df.shape)"
   ],
   "metadata": {
    "collapsed": false,
    "ExecuteTime": {
     "end_time": "2023-09-14T05:42:25.632891Z",
     "start_time": "2023-09-14T05:42:25.390372Z"
    }
   },
   "id": "2f1fffac5b64f39"
  },
  {
   "cell_type": "markdown",
   "source": [
    "The database consists of 1338 rows and seven columns. This is a fairly small dataset, which should be easy to work with."
   ],
   "metadata": {
    "collapsed": false
   },
   "id": "551c9c8466c76475"
  },
  {
   "cell_type": "markdown",
   "source": [
    "<a id='handling-null-values'></a>\n",
    "## Handling Null Values\n",
    "\n",
    "Null values can cause data analysis and models to misbehave. It's important to know if there are any null values in the dataset and how to handle them."
   ],
   "metadata": {
    "collapsed": false
   },
   "id": "7ae16ec7f0c68014"
  },
  {
   "cell_type": "code",
   "execution_count": 809,
   "outputs": [
    {
     "name": "stdout",
     "output_type": "stream",
     "text": [
      "age         0\n",
      "sex         0\n",
      "bmi         0\n",
      "children    0\n",
      "smoker      0\n",
      "region      0\n",
      "charges     0\n",
      "dtype: int64\n"
     ]
    }
   ],
   "source": [
    "# Check for null values in the dataframe\n",
    "print(main_df.isnull().sum())"
   ],
   "metadata": {
    "collapsed": false,
    "ExecuteTime": {
     "end_time": "2023-09-14T05:42:25.634530Z",
     "start_time": "2023-09-14T05:42:25.392902Z"
    }
   },
   "id": "e4354df009a84461"
  },
  {
   "cell_type": "markdown",
   "source": [
    "There are no null values in the dataset. This is good news, as it means that there is no need to handle null values."
   ],
   "metadata": {
    "collapsed": false
   },
   "id": "14fbe34c96558887"
  },
  {
   "cell_type": "markdown",
   "source": [
    "<a id='removing-duplicate-values'></a>\n",
    "## Removing Duplicate Values\n",
    "\n",
    "Duplicate entries mess with the data, as they skew the results. It's important to know if there are any duplicate values in the dataset and how to handle them."
   ],
   "metadata": {
    "collapsed": false
   },
   "id": "dda85c33250e8095"
  },
  {
   "cell_type": "code",
   "execution_count": 810,
   "outputs": [
    {
     "name": "stdout",
     "output_type": "stream",
     "text": [
      "1\n"
     ]
    }
   ],
   "source": [
    "# Check for duplicate values in the dataframe\n",
    "print(main_df.duplicated().sum())"
   ],
   "metadata": {
    "collapsed": false,
    "ExecuteTime": {
     "end_time": "2023-09-14T05:42:25.643005Z",
     "start_time": "2023-09-14T05:42:25.396487Z"
    }
   },
   "id": "e24e41981ed7066c"
  },
  {
   "cell_type": "markdown",
   "source": [
    "It looks like there is a single duplicate value in the dataset. Before removing it, it may be useful to see what the duplicate value is."
   ],
   "metadata": {
    "collapsed": false
   },
   "id": "ce0ba9236b514ec9"
  },
  {
   "cell_type": "code",
   "execution_count": 811,
   "outputs": [
    {
     "name": "stdout",
     "output_type": "stream",
     "text": [
      "     age   sex    bmi  children smoker     region    charges\n",
      "581   19  male  30.59         0     no  northwest  1639.5631\n"
     ]
    }
   ],
   "source": [
    "# Display the duplicate value\n",
    "print(main_df[main_df.duplicated()])"
   ],
   "metadata": {
    "collapsed": false,
    "ExecuteTime": {
     "end_time": "2023-09-14T05:42:25.645131Z",
     "start_time": "2023-09-14T05:42:25.400255Z"
    }
   },
   "id": "63838527e0784ad4"
  },
  {
   "cell_type": "markdown",
   "source": [
    "This duplicate could be useful information. Since there are no names or IDs in the dataset, the only clue present to show that this is a duplicate is the charges value. This value is too specific to be a coincidence. For this reason, the duplicate value will be removed and only the first instance will be kept."
   ],
   "metadata": {
    "collapsed": false
   },
   "id": "624c9324b6fa06c0"
  },
  {
   "cell_type": "code",
   "execution_count": 812,
   "outputs": [],
   "source": [
    "# Remove the duplicate value\n",
    "main_df.drop_duplicates(inplace=True)"
   ],
   "metadata": {
    "collapsed": false,
    "ExecuteTime": {
     "end_time": "2023-09-14T05:42:25.647071Z",
     "start_time": "2023-09-14T05:42:25.403980Z"
    }
   },
   "id": "e5f3792b134b3b87"
  },
  {
   "cell_type": "markdown",
   "source": [
    "<a id='data-dimentions-after-cleaning'></a>\n",
    "## Data Dimensions After Cleaning\n",
    "\n",
    "After cleaning the dataset, it's important to check the dimensions again. This will help determine if the cleaning process was successful. In this instance, the number of rows should be reduced by one."
   ],
   "metadata": {
    "collapsed": false
   },
   "id": "9d816a0d01abc253"
  },
  {
   "cell_type": "code",
   "execution_count": 813,
   "outputs": [
    {
     "name": "stdout",
     "output_type": "stream",
     "text": [
      "(1337, 7)\n"
     ]
    }
   ],
   "source": [
    "# Display the shape of the dataframe\n",
    "print(main_df.shape)"
   ],
   "metadata": {
    "collapsed": false,
    "ExecuteTime": {
     "end_time": "2023-09-14T05:42:25.647255Z",
     "start_time": "2023-09-14T05:42:25.407525Z"
    }
   },
   "id": "b756b4b074dce446"
  },
  {
   "cell_type": "markdown",
   "source": [
    "The number of rows has been reduced by one, which means that the duplicate value was successfully removed."
   ],
   "metadata": {
    "collapsed": false
   },
   "id": "b2496d2e282c163a"
  },
  {
   "cell_type": "markdown",
   "source": [
    "<a id='saving-the-cleaned-data'></a>\n",
    "## Saving the Cleaned Data\n",
    "\n",
    "Before proceeding with any analysis, it's important to save the cleaned data into a new `.csv` file. This could help other people to use the data that's being analyzed."
   ],
   "metadata": {
    "collapsed": false
   },
   "id": "26512dbacdfa1b9f"
  },
  {
   "cell_type": "code",
   "execution_count": 814,
   "outputs": [],
   "source": [
    "# Define the path to the destination file\n",
    "destination_file_path = processed_data_path + '/data_cleaned.csv'\n",
    "\n",
    "# Save the dataframe into a new csv file\n",
    "main_df.to_csv(destination_file_path, index=False)"
   ],
   "metadata": {
    "collapsed": false,
    "ExecuteTime": {
     "end_time": "2023-09-14T05:42:25.654716Z",
     "start_time": "2023-09-14T05:42:25.414760Z"
    }
   },
   "id": "fbbf9b4017741d99"
  },
  {
   "cell_type": "markdown",
   "source": [
    "<a id='exploratory-data-analysis'></a>\n",
    "# Exploratory Data Analysis\n",
    "\n",
    "The Exploratory Data Analysis (EDA) is the main part of this project. This section aims to deep dive into the data and extract useful information, presenting a comprehensive understanding of its structure, relationships, and patterns. The EDA will be broken down into the following sections:\n",
    "\n",
    "- Data types: The types of data present in the dataset.\n",
    "- Univariate Analysis: The analysis of a single variable.\n",
    "- Bivariate Analysis: The analysis and relationship between two variables.\n",
    "- Correlation Analysis: The quantification of the strength of the relationship between two variables.\n",
    "- Categorical Analysis: The analysis of categorical variables.\n",
    "\n",
    "Finally, the section concludes with a summary that goes of the key findings of the EDA."
   ],
   "metadata": {
    "collapsed": false
   },
   "id": "5a9e760f450bdd37"
  },
  {
   "cell_type": "markdown",
   "source": [
    "<a id='data-types'></a>\n",
    "## Data Types\n",
    "\n",
    "This short section will be used to review the data types which are present in the dataset. This is important since it can determine how each variable should be analyzed."
   ],
   "metadata": {
    "collapsed": false
   },
   "id": "9b902a44ce112623"
  },
  {
   "cell_type": "code",
   "execution_count": 815,
   "outputs": [
    {
     "name": "stdout",
     "output_type": "stream",
     "text": [
      "age           int64\n",
      "sex          object\n",
      "bmi         float64\n",
      "children      int64\n",
      "smoker       object\n",
      "region       object\n",
      "charges     float64\n",
      "dtype: object\n"
     ]
    }
   ],
   "source": [
    "# Display the data types of the dataframe\n",
    "print(main_df.dtypes)"
   ],
   "metadata": {
    "collapsed": false,
    "ExecuteTime": {
     "end_time": "2023-09-14T05:42:25.654923Z",
     "start_time": "2023-09-14T05:42:25.421512Z"
    }
   },
   "id": "2de695a4ce3cae66"
  },
  {
   "cell_type": "markdown",
   "source": [
    "The data types shows that there are four numerical variables and three categorical variables:\n",
    "\n",
    "Numerical variables: `age`, `bmi`, `children`, `charges`.\n",
    "- The numerical variables will be analyzed using descriptive statistics and histograms. Box plots will also be used to determine if there are any outliers in the data if the descriptive statistics and histograms show that there is a high variability in the data."
   ],
   "metadata": {
    "collapsed": false
   },
   "id": "deb77d561fb1d972"
  },
  {
   "cell_type": "code",
   "execution_count": 816,
   "outputs": [],
   "source": [
    "# Select the numerical variables\n",
    "numerical_fields = main_df.select_dtypes(include='number').columns"
   ],
   "metadata": {
    "collapsed": false,
    "ExecuteTime": {
     "end_time": "2023-09-14T05:42:25.656568Z",
     "start_time": "2023-09-14T05:42:25.430507Z"
    }
   },
   "id": "1d2555f05e770a84"
  },
  {
   "cell_type": "markdown",
   "source": [
    "Categorical variables: `sex`, `smoker`, `region`.\n",
    "- The categorical variables will be analyzed using bar charts. Additionally, if the categorical variables are ordinal, then they will be analyzed using descriptive statistics."
   ],
   "metadata": {
    "collapsed": false
   },
   "id": "9a97875f557ae6b1"
  },
  {
   "cell_type": "code",
   "execution_count": 817,
   "outputs": [],
   "source": [
    "# Select the categorical variables\n",
    "categorical_fields = main_df.select_dtypes(include='object').columns"
   ],
   "metadata": {
    "collapsed": false,
    "ExecuteTime": {
     "end_time": "2023-09-14T05:42:25.660830Z",
     "start_time": "2023-09-14T05:42:25.437470Z"
    }
   },
   "id": "f773e7faf797544f"
  },
  {
   "cell_type": "markdown",
   "source": [
    "<a id='univariate-analysis'></a>\n",
    "## Univariate Analysis\n",
    "\n",
    "This section consists of a univariate analysis for each variable in the dataset. The analysis will be done using the `describe()` method and a series of histograms. The main focus of this histogram is to find patterns in the data."
   ],
   "metadata": {
    "collapsed": false
   },
   "id": "ed2f7816c30f4636"
  },
  {
   "cell_type": "markdown",
   "source": [
    "<a id='descriptive-statistics'></a>\n",
    "### Descriptive Statistics\n",
    "\n",
    "It's important to review the standard descriptive statistics. This gives a good idea for the distribution of the data. This only applies to the numerical variables, as the categorical variables don't have a mean or standard deviation."
   ],
   "metadata": {
    "collapsed": false
   },
   "id": "9d3952493ffec8dc"
  },
  {
   "cell_type": "code",
   "execution_count": 818,
   "outputs": [
    {
     "name": "stdout",
     "output_type": "stream",
     "text": [
      "               age          bmi     children       charges\n",
      "count  1337.000000  1337.000000  1337.000000   1337.000000\n",
      "mean     39.222139    30.663452     1.095737  13279.121487\n",
      "std      14.044333     6.100468     1.205571  12110.359656\n",
      "min      18.000000    15.960000     0.000000   1121.873900\n",
      "25%      27.000000    26.290000     0.000000   4746.344000\n",
      "50%      39.000000    30.400000     1.000000   9386.161300\n",
      "75%      51.000000    34.700000     2.000000  16657.717450\n",
      "max      64.000000    53.130000     5.000000  63770.428010\n"
     ]
    }
   ],
   "source": [
    "# Obtain the descriptive statistics for the dataframe\n",
    "description = main_df.describe()\n",
    "\n",
    "# Display the descriptive statistics\n",
    "print(description)"
   ],
   "metadata": {
    "collapsed": false,
    "ExecuteTime": {
     "end_time": "2023-09-14T05:42:25.664250Z",
     "start_time": "2023-09-14T05:42:25.444236Z"
    }
   },
   "id": "8e9db30f26516505"
  },
  {
   "cell_type": "markdown",
   "source": [
    "For the categorical variables, each one of them needs to be reviewed individually. Firstly, finding out if they are ordinal will determine if the descriptive statistics can be used."
   ],
   "metadata": {
    "collapsed": false
   },
   "id": "462bfaf0603ea8aa"
  },
  {
   "cell_type": "code",
   "execution_count": 819,
   "outputs": [
    {
     "name": "stdout",
     "output_type": "stream",
     "text": [
      "Variable \"sex\": 2 unique values.\n",
      "Variable \"smoker\": 2 unique values.\n",
      "Variable \"region\": 4 unique values.\n"
     ]
    }
   ],
   "source": [
    "# Loop through the categorical variables and find the unique values\n",
    "for variable in categorical_fields:\n",
    "    print(f'Variable \"{variable}\": {len(main_df[variable].unique())} unique values.')"
   ],
   "metadata": {
    "collapsed": false,
    "ExecuteTime": {
     "end_time": "2023-09-14T05:42:25.665889Z",
     "start_time": "2023-09-14T05:42:25.450868Z"
    }
   },
   "id": "8c571b8409cc9a40"
  },
  {
   "cell_type": "markdown",
   "source": [
    "The categorical variables are all ordinal, which means the descriptive statistics can be used. First, finding the mode will help to determine the most common value."
   ],
   "metadata": {
    "collapsed": false
   },
   "id": "b2254ea6d391bd69"
  },
  {
   "cell_type": "code",
   "execution_count": 820,
   "outputs": [
    {
     "name": "stdout",
     "output_type": "stream",
     "text": [
      "Variable \"sex\":\n",
      "\"female\": 662 (49.51%)\n",
      "\"male\": 675 (50.49%)\n",
      "Mode: \"male\"\n",
      "\n",
      "Variable \"smoker\":\n",
      "\"yes\": 274 (20.49%)\n",
      "\"no\": 1063 (79.51%)\n",
      "Mode: \"no\"\n",
      "\n",
      "Variable \"region\":\n",
      "\"southwest\": 325 (24.31%)\n",
      "\"southeast\": 364 (27.23%)\n",
      "\"northwest\": 324 (24.23%)\n",
      "\"northeast\": 324 (24.23%)\n",
      "Mode: \"southeast\"\n"
     ]
    }
   ],
   "source": [
    "# For each variable show, the total amount of times each value appears, percentage and determine the mode\n",
    "for variable in categorical_fields:\n",
    "    # Variable name\n",
    "    print(f'Variable \"{variable}\":')\n",
    "    \n",
    "    # For each value, show the quantity and percentage\n",
    "    for value in main_df[variable].unique():\n",
    "        quantity = main_df[variable].value_counts()[value]\n",
    "        percentage = round(main_df[variable].value_counts(normalize=True)[value] * 100, 2)\n",
    "        print(f'\"{value}\": {quantity} ({percentage}%)')\n",
    "        \n",
    "    # Show the mode\n",
    "    print(f'Mode: \"{main_df[variable].mode()[0]}\"\\n')"
   ],
   "metadata": {
    "collapsed": false,
    "ExecuteTime": {
     "end_time": "2023-09-14T05:42:25.672266Z",
     "start_time": "2023-09-14T05:42:25.458362Z"
    }
   },
   "id": "4065476f1d2e2268"
  },
  {
   "cell_type": "markdown",
   "source": [
    "<a id='histograms'></a>\n",
    "### Histograms (Numerical Variables)\n",
    "\n",
    "Before analyzing any of the statistics, creating a histogram for each of the numerical variables can help to further understand the data. "
   ],
   "metadata": {
    "collapsed": false
   },
   "id": "e675ce72a644a6fd"
  },
  {
   "cell_type": "code",
   "execution_count": 821,
   "outputs": [
    {
     "data": {
      "text/plain": "<Figure size 1500x1000 with 4 Axes>",
      "image/png": "[encoded data removed]"
     },
     "metadata": {},
     "output_type": "display_data"
    }
   ],
   "source": [
    "# Create a figure with subplots\n",
    "figure, axes = plt.subplots(2, 2, figsize=(15, 10))\n",
    "figure.suptitle('Histograms of numerical variables')\n",
    "axes = axes.flatten()\n",
    "\n",
    "# Create a histogram for each of the numerical variables\n",
    "for n, field in enumerate(numerical_fields):\n",
    "    axes[n].hist(main_df[field])\n",
    "    axes[n].set_title(field)\n",
    "    axes[n].set_xlabel(field)\n",
    "    axes[n].set_ylabel('Frequency')\n",
    "    \n",
    "# Display the figure\n",
    "plt.show()"
   ],
   "metadata": {
    "collapsed": false,
    "ExecuteTime": {
     "end_time": "2023-09-14T05:42:25.843720Z",
     "start_time": "2023-09-14T05:42:25.462805Z"
    }
   },
   "id": "792c574a8467f73b"
  },
  {
   "cell_type": "markdown",
   "source": [
    "<a id='bar-charts'></a>\n",
    "### Bar Charts (Categorical Variables)\n",
    "\n",
    "Visualizing the values of the categorical variables can help to understand the data. This can be accomplished by creating a bar chart for each of the categorical variables."
   ],
   "metadata": {
    "collapsed": false
   },
   "id": "c26e16e350e1db9e"
  },
  {
   "cell_type": "code",
   "execution_count": 822,
   "outputs": [
    {
     "data": {
      "text/plain": "<Figure size 1500x500 with 3 Axes>",
      "image/png": "[encoded data removed]"
     },
     "metadata": {},
     "output_type": "display_data"
    }
   ],
   "source": [
    "# Create a figure with subplots\n",
    "figure, axes = plt.subplots(1, 3, figsize=(15, 5))\n",
    "figure.suptitle('Bar charts of categorical variables')\n",
    "axes = axes.flatten()\n",
    "\n",
    "# Create a bar chart for each of the categorical variables\n",
    "for n, field in enumerate(categorical_fields):\n",
    "    main_df[field].value_counts().plot(kind='bar', ax=axes[n])\n",
    "    axes[n].set_title(field)\n",
    "    axes[n].set_xlabel(field)\n",
    "    axes[n].set_ylabel('Frequency')\n",
    "    \n",
    "# Display the figure\n",
    "plt.show()"
   ],
   "metadata": {
    "collapsed": false,
    "ExecuteTime": {
     "end_time": "2023-09-14T05:42:26.003016Z",
     "start_time": "2023-09-14T05:42:25.858163Z"
    }
   },
   "id": "fc9657aac84540d7"
  },
  {
   "cell_type": "markdown",
   "source": [
    "<a id='interpretation-of-univariate-analysis-numerical'></a>\n",
    "### Interpretation of Univariate Analysis (Numerical Variables)"
   ],
   "metadata": {
    "collapsed": false
   },
   "id": "98135e08e3e44831"
  },
  {
   "cell_type": "markdown",
   "source": [
    "<a id='univariate-age'></a>\n",
    "#### Age\n",
    "\n",
    "The `age` of the patients is fairly evenly distributed, with a slight skew towards the younger ages in the 20s group. The mean age is 39 years old, with a standard deviation of 14 years. The youngest patient is 18 years old, and the oldest patient is 64 years old. The high standard deviation indicates that the data is spread out over a wide range of values, which can indicate that the age of the patients is not a good indicator of the insurance costs."
   ],
   "metadata": {
    "collapsed": false
   },
   "id": "5ef6e9026c695e58"
  },
  {
   "cell_type": "markdown",
   "source": [
    "<a id='univariate-bmi'></a>\n",
    "#### BMI\n",
    "\n",
    "The histogram for `bmi` shows that the distribution is normal with a bell curve skewed to the right. The mean 30.66, with a standard deviation of 6.1, indicates a moderate variability. The range goes from 16 to 52. A BMI of 30 and above is normally falls under the category of obesity. Since the `bmi` values tend to be around the mean, this could potentially mean that it has an impact on insurance costs. The histogram also shows that there could be presence of outliers, creating a box plot will help to visualize this."
   ],
   "metadata": {
    "collapsed": false
   },
   "id": "d7e474c36ae6e034"
  },
  {
   "cell_type": "code",
   "execution_count": 823,
   "outputs": [
    {
     "data": {
      "text/plain": "<Figure size 640x480 with 1 Axes>",
      "image/png": "[encoded data removed]"
     },
     "metadata": {},
     "output_type": "display_data"
    }
   ],
   "source": [
    "# Create a boxplot for the BMI variable\n",
    "plt.boxplot(main_df['bmi'], vert=False)\n",
    "plt.title('Boxplot of BMI')\n",
    "plt.xlabel('BMI')\n",
    "plt.show()"
   ],
   "metadata": {
    "collapsed": false,
    "ExecuteTime": {
     "end_time": "2023-09-14T05:42:26.092391Z",
     "start_time": "2023-09-14T05:42:26.004294Z"
    }
   },
   "id": "9329b2ef5af7deed"
  },
  {
   "cell_type": "markdown",
   "source": [
    "Although the boxplot shows that there are outliers, the number looks to be small, but determining the amount may help to clarify this. First, the interquartile range will be calculated and using the upper and lower bounds, the outliers will be removed into a new dataframe."
   ],
   "metadata": {
    "collapsed": false
   },
   "id": "7cd1121fcea053fc"
  },
  {
   "cell_type": "code",
   "execution_count": 824,
   "outputs": [
    {
     "name": "stdout",
     "output_type": "stream",
     "text": [
      "Number of rows in the original dataframe: 1337\n",
      "Number of rows in the new dataframe: 1328\n",
      "Percentage of rows removed: 0.67% (9 rows).\n"
     ]
    }
   ],
   "source": [
    "# Calculate the interquartile range\n",
    "bmi_iqr = main_df['bmi'].quantile(0.75) - main_df['bmi'].quantile(0.25)\n",
    "\n",
    "# Calculate the upper and lower bounds\n",
    "bmi_upper_bound = main_df['bmi'].quantile(0.75) + 1.5 * bmi_iqr\n",
    "bmi_lower_bound = main_df['bmi'].quantile(0.25) - 1.5 * bmi_iqr\n",
    "\n",
    "# Create a dataframe without the outliers\n",
    "main_df_no_outliers = main_df[(main_df['bmi'] < bmi_upper_bound) & (main_df['bmi'] > bmi_lower_bound)]\n",
    "\n",
    "# Calculate removed rows\n",
    "percentage_removed = round((1 - main_df_no_outliers.shape[0] / main_df.shape[0]) * 100, 2)\n",
    "quantity_removed = main_df.shape[0] - main_df_no_outliers.shape[0]\n",
    "\n",
    "# Display the results\n",
    "print(f'Number of rows in the original dataframe: {main_df.shape[0]}')\n",
    "print(f'Number of rows in the new dataframe: {main_df_no_outliers.shape[0]}')\n",
    "print(f'Percentage of rows removed: {percentage_removed}% ({quantity_removed} rows).')"
   ],
   "metadata": {
    "collapsed": false,
    "ExecuteTime": {
     "end_time": "2023-09-14T05:42:26.092558Z",
     "start_time": "2023-09-14T05:42:26.050465Z"
    }
   },
   "id": "2a9bffc1efcca8bd"
  },
  {
   "cell_type": "markdown",
   "source": [
    "The new dataframe has 1329 rows, which means that nine rows were removed. This number of rows represents 0.67% of the original dataset. This is a very small amount of data. For this reason, the outliers will be kept in the dataset, although further analysis could prove useful, but this is outside the scope of this project."
   ],
   "metadata": {
    "collapsed": false
   },
   "id": "a5e4ad408514ad09"
  },
  {
   "cell_type": "markdown",
   "source": [
    "<a id='univariate-children'></a>\n",
    "#### Children\n",
    "\n",
    "There are larger numbers of patients without children. The histogram is skewed to the right, with a mean of 1.09 and a standard deviation of 1.21, meaning a high variation for the min and max values of 0 and 5 respectively. This variable could potentially have an impact on the insurance costs, although the standard deviation indicates that it may not be a good indicator.\n"
   ],
   "metadata": {
    "collapsed": false
   },
   "id": "56e238a6bd206543"
  },
  {
   "cell_type": "markdown",
   "source": [
    "<a id='univariate-charges'></a>\n",
    "#### Charges\n",
    "\n",
    "The charges histogram is skewed to the right, with a mean of 13270.42 and a standard deviation of 12110.01. The range goes from 1121 to 63770. This indicates a high variability in the data, which could mean that this variable is a good indicator of the insurance costs. It's worth noting that the minimum value is very low compared to the maximum value, which could indicate that there are outliers in the data. To visualize this, a boxplot will be created in the next section."
   ],
   "metadata": {
    "collapsed": false
   },
   "id": "5e2bb56082e66113"
  },
  {
   "cell_type": "code",
   "execution_count": 825,
   "outputs": [
    {
     "data": {
      "text/plain": "<Figure size 640x480 with 1 Axes>",
      "image/png": "[encoded data removed]"
     },
     "metadata": {},
     "output_type": "display_data"
    }
   ],
   "source": [
    "# Create a boxplot for the charges variable\n",
    "plt.boxplot(main_df['charges'], vert=False)\n",
    "plt.title('Boxplot of charges')\n",
    "plt.xlabel('Charges')\n",
    "plt.show()"
   ],
   "metadata": {
    "collapsed": false,
    "ExecuteTime": {
     "end_time": "2023-09-14T05:42:26.109134Z",
     "start_time": "2023-09-14T05:42:26.061453Z"
    }
   },
   "id": "4e50ffd5da41e125"
  },
  {
   "cell_type": "markdown",
   "source": [
    "The box plot shows that there outliers in the data. Determining how many outliers there are could help to better understand the data. First, the interquartile range will be calculated and using the upper and lower bounds, the outliers will be removed into a new dataframe."
   ],
   "metadata": {
    "collapsed": false
   },
   "id": "128de742b7d96870"
  },
  {
   "cell_type": "code",
   "execution_count": 826,
   "outputs": [
    {
     "name": "stdout",
     "output_type": "stream",
     "text": [
      "Number of rows in the original dataframe: 1337\n",
      "Number of rows in the new dataframe: 1198\n",
      "Percentage of rows removed: 10.4% (139 rows).\n"
     ]
    }
   ],
   "source": [
    "# Calculate the interquartile range\n",
    "charges_iqr = main_df['charges'].quantile(0.75) - main_df['charges'].quantile(0.25)\n",
    "\n",
    "# Calculate the upper and lower bounds\n",
    "charges_upper_bound = main_df['charges'].quantile(0.75) + 1.5 * charges_iqr\n",
    "charges_lower_bound = main_df['charges'].quantile(0.25) - 1.5 * charges_iqr\n",
    "\n",
    "# Create a dataframe without the outliers\n",
    "main_df_no_outliers = main_df[(main_df['charges'] < charges_upper_bound) & (main_df['charges'] > charges_lower_bound)]\n",
    "\n",
    "# Calculate removed rows\n",
    "percentage_removed = round((1 - main_df_no_outliers.shape[0] / main_df.shape[0]) * 100, 2)\n",
    "quantity_removed = main_df.shape[0] - main_df_no_outliers.shape[0]\n",
    "\n",
    "# Display the results\n",
    "print(f'Number of rows in the original dataframe: {main_df.shape[0]}')\n",
    "print(f'Number of rows in the new dataframe: {main_df_no_outliers.shape[0]}')\n",
    "print(f'Percentage of rows removed: {percentage_removed}% ({quantity_removed} rows).')"
   ],
   "metadata": {
    "collapsed": false,
    "ExecuteTime": {
     "end_time": "2023-09-14T05:42:26.111733Z",
     "start_time": "2023-09-14T05:42:26.109033Z"
    }
   },
   "id": "88f17ce30d1d4d56"
  },
  {
   "cell_type": "markdown",
   "source": [
    "The new dataframe has 1198 rows, which means that 139 rows were removed. This number of rows represents 10.4 of the original dataset. This is a significant amount of data. Further analysis of the outliers could help determine if they should be removed or not (or if a portion of them should be removed), although this is, yet again, outside the scope of this project. For this reason, the outliers will be kept in the dataset."
   ],
   "metadata": {
    "collapsed": false
   },
   "id": "261787d45cccc85d"
  },
  {
   "cell_type": "markdown",
   "source": [
    "<a id='interpretation-of-univariate-analysis-categorical'></a>\n",
    "### Interpretation of Univariate Analysis (Categorical Variables)"
   ],
   "metadata": {
    "collapsed": false
   },
   "id": "51525068a6858931"
  },
  {
   "cell_type": "markdown",
   "source": [
    "<a id='univariate-sex'></a>\n",
    "#### Sex\n",
    "\n",
    "The values of the `sex` variable show that each value appears roughly fifty percent of the time. This means that the data is evenly distributed between the these two values. The frequency of each value is 676 for `male` and 662 for `female`. The mode is `male`, which means that the most common value is `male`, although the difference is very small with a difference of 14 values (0.98%), meaning that the `sex` could have little to no weight in the insurance costs."
   ],
   "metadata": {
    "collapsed": false
   },
   "id": "81fd573aadb51b24"
  },
  {
   "cell_type": "markdown",
   "source": [
    "<a id='univariate-smoker'></a>\n",
    "#### Smoker\n",
    "\n",
    "The `smoker` variable presents a bigger difference between the values with 1063 (79.51%) for `no` and 274 (20.49%) for `yes`. The mode is `no`, which means that the most common value is `no`. This difference may mean that the `smoker`variable could have a big impact on the insurance costs."
   ],
   "metadata": {
    "collapsed": false
   },
   "id": "ba89630de9bb9f5f"
  },
  {
   "cell_type": "markdown",
   "source": [
    "<a id='univariate-region'></a>\n",
    "#### Region\n",
    "\n",
    "The distribution of the values for the `region` variable is fairly even, except for the `southeast` region, which has 364 (27.23%) values, which makes it the most common value. This mode and related to otherwise even distribution of the other values means that the `region` variable could have a small but not insignificant impact on the insurance costs. "
   ],
   "metadata": {
    "collapsed": false
   },
   "id": "36532057fb2c0f44"
  },
  {
   "cell_type": "markdown",
   "source": [
    "<a id='bivariate-analysis'></a>\n",
    "## Bivariate Analysis\n",
    "\n"
   ],
   "metadata": {
    "collapsed": false
   },
   "id": "a99774c5c6b4216d"
  },
  {
   "cell_type": "markdown",
   "source": [
    "<a id='corrleation-analysis'></a>\n",
    "## Correlation Analysis"
   ],
   "metadata": {
    "collapsed": false
   },
   "id": "10d43138f0748c75"
  },
  {
   "cell_type": "markdown",
   "source": [
    "<a id='categorical-analysis'></a>\n",
    "## Categorical Analysis"
   ],
   "metadata": {
    "collapsed": false
   },
   "id": "e19c107a98bc08bc"
  },
  {
   "cell_type": "markdown",
   "source": [
    "<a id='summary-of-eda-findings'></a>\n",
    "## Summary of the Exploratory Data Analysis findings"
   ],
   "metadata": {
    "collapsed": false
   },
   "id": "b1b2e05b80a12207"
  }
 ],
 "metadata": {
  "kernelspec": {
   "display_name": "Python 3 (ipykernel)",
   "language": "python",
   "name": "python3"
  },
  "language_info": {
   "codemirror_mode": {
    "name": "ipython",
    "version": 3
   },
   "file_extension": ".py",
   "mimetype": "text/x-python",
   "name": "python",
   "nbconvert_exporter": "python",
   "pygments_lexer": "ipython3",
   "version": "3.11.2"
  }
 },
 "nbformat": 4,
 "nbformat_minor": 5
}
