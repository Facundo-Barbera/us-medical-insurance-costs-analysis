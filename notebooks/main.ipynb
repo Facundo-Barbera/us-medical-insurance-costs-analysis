{
 "cells": [
  {
   "cell_type": "markdown",
   "id": "2830eb7c3b43c9e2",
   "metadata": {
    "collapsed": false
   },
   "source": [
    "<a id='1-personal-notes'></a>\n",
    "# Personal notes\n",
    "\n",
    "Today is saturday 16, december 2023. \n",
    "I have decided to retake this project after about 2 months of inactivity. \n",
    "\n",
    "<a id='1.1-restarting'></a>\n",
    "## Restarting\n",
    "\n",
    "This time I would like to take a different approach to this project.Last time I tried to work on this the pace was really fast, I often lost track of my progress, asking myself why I did certain things in the first place.This was mostly due to my high dependence on A.I. when working on, well, anything related to this project. Although I believe A.I. generated code is not inherently bad, it limited my understanding of the project progression, because even though I was guiding the project, I was not immersed in it. This notebook will serve as a dump for me to try multiple things, even if they seem unnecessary from a data science perspective. I will dump the final result of my research on a notebook called \"report.ipynb\"\n",
    "\n",
    "This project has taken huge importance to me, not because of its complexity, but because it is my first solo project related to data science.\n",
    "\n",
    "<a id='1.2-approach'></a>\n",
    "## Approach\n",
    "\n",
    "Overall, I want to keep somewhat of a similar structure to what I originally intended which was:\n",
    "\n",
    "- Data cleaning\n",
    "- EDA\n",
    "- Hypotheses declaration\n",
    "- Statistical analysis\n",
    "- Feature engineering\n",
    "- Model building\n",
    "- Model evaluation\n",
    "- Interpretations\n",
    "- Conclusions\n",
    "\n",
    "This structure more or less summarizes what are the steps I'm going to take to develop this project, but if it's necessary, I will update it."
   ]
  },
  {
   "cell_type": "markdown",
   "id": "a85b2bf28c44d28a",
   "metadata": {
    "collapsed": false
   },
   "source": [
    "<a id='2-format-dumps-etc'></a>\n",
    "# Format, dumps, etc.\n",
    "\n",
    "Hey, future me! I didn't really know how to call this section, but I feel like you most likely will come back here later. This section is for you. I have created this place to put in anything you want to save for later on this project, and I would like to add my first own... tip?\n",
    "\n",
    "<a id='2.1-tags'></a>\n",
    "## Tags\n",
    "\n",
    "For this project, we are using jupyter notebook, but for some reason the creators have decided not to include some for of table of contents. We came up with a work around last time we created the project.\n",
    "\n",
    "```html\n",
    "<a id='{insert-id-here}'></a>\n",
    "```\n",
    "\n",
    "That last code snippet should allow you to add a tag to your markdown texts so that you can later create a table of content with hyperlinks via the ids! The ids need to be unique, so I propose to use a numerical system to include in the tags. Start every id with a number, separating subsections with points (`.`). So for example, a section called `foo` inside the current section (section 2) should be created using the following format:\n",
    "\n",
    "```html\n",
    "<a id='2.1-foo'></a>\n",
    "## Foo\n",
    "```\n",
    "\n",
    "Adding the name is optional with the numerical version, but I like it. Also, make sure that for every point you add, you add a hash symbol in the actual title (since the HTML tag will be invisible).\n",
    "\n",
    "<a id='2.2-formatting'></a>\n",
    "## Formatting\n",
    "\n",
    "Using quotes in this notebook is something I'm going to be using frequently, so I might as well point it out here. This notebook will contain actual working code and text that will be added in the final report. From the next section on, I will write any personal notes using quotes.\n",
    "\n",
    "    Note: this is a quote."
   ]
  },
  {
   "cell_type": "code",
   "execution_count": 2,
   "id": "8b94811ba194536d",
   "metadata": {
    "ExecuteTime": {
     "end_time": "2023-12-16T21:19:24.429417Z",
     "start_time": "2023-12-16T21:19:24.397156Z"
    },
    "collapsed": false
   },
   "outputs": [
    {
     "name": "stdout",
     "output_type": "stream",
     "text": [
      "hello\n"
     ]
    }
   ],
   "source": [
    "# Use this code block to start the jupyter server via JetBrains Pycharm\n",
    "print(\"hello\")"
   ]
  },
  {
   "cell_type": "markdown",
   "id": "14cd66b01f156eb2",
   "metadata": {
    "collapsed": false
   },
   "source": [
    "<a id='2-introduction'></a>\n",
    "# Introduction\n",
    "\n",
    "    This introduction has been re-written. It was created using my own text, with some suggestions by github copilot (minor details like the use of certain words to make it more formal). It depicts the problem which the project aims to tackle and it hints towards the methods that will be used in the project.\n",
    "    \n",
    "The United States has one of the most expensive healthcare systems in the world, with increasing yearly costs, which often leads citizens to be under unfavorable final situations. Analyzing data which is related to healthcare beneficiaries, could potentially show patterns or behaviors that lead to higher charges. This project aims to create such analysis and feature the use of multiple data science tools and methods to achieve this.\n",
    "\n",
    "<a id=2.1-problem-statement></a>\n",
    "## Problem statement\n",
    "\n",
    "    This is sort of a TLDR for the introduction which only focuses on the may part of the project. I don't think I'm going to keep it since it's a bit redundant, but I'll keep it for now.\n",
    "    \n",
    "The objective of the project is to understand the data, interpret which factors affect the medical insurance costs in the United States. Furthermore, creating models to predict insurance costs could prove useful.\n",
    "\n",
    "<a id=2.2-objectives></a>\n",
    "## Objectives\n",
    "\n",
    "    This section should outline the actual objectives of the project, in a more technical level. Previously the objectives I set where A.I. generated and I didn't even look over them. Overall I'm satisfied with the current objectives, which I created using the previous version as a base. This version is a bit more specific and explains much better what the intentions of the project is.\n",
    "    \n",
    "<a id=2.2.1-primary-objective></a>\n",
    "### Primary objective\n",
    "    \n",
    "Identify the key variables which have the higher weight in the insurance costs and forecast or predict the charges of hypothetical customers using arbitrary data.\n",
    "\n",
    "<a id=2.2.2-secondary-objectives></a>\n",
    "### Secondary objectives\n",
    "\n",
    "* Explore multiple data science tools and methodologies, including and not limited to data visualization, machine learning, and statistical analysis.\n",
    "* Understand how multiple lifestyle choices impact medical insurance costs.\n",
    "* Provide insights that could help citizens or policymakers to reduce overall medical insurance costs."
   ]
  }
 ],
 "metadata": {
  "kernelspec": {
   "display_name": "Python 3 (ipykernel)",
   "language": "python",
   "name": "python3"
  },
  "language_info": {
   "codemirror_mode": {
    "name": "ipython",
    "version": 3
   },
   "file_extension": ".py",
   "mimetype": "text/x-python",
   "name": "python",
   "nbconvert_exporter": "python",
   "pygments_lexer": "ipython3",
   "version": "3.9.6"
  }
 },
 "nbformat": 4,
 "nbformat_minor": 5
}
