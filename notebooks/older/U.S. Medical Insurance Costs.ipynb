{
 "cells": [
  {
   "cell_type": "markdown",
   "metadata": {},
   "source": [
    "# Project Description\n",
    "\n",
    "For this project, you will be investigating a medical insurance costs dataset in a .csv file using the Python skills that you've developed. This dataset and its parameters will seem familiar if you've done any of the previous Python projects in the data science path.\n",
    "\n",
    "However, you're now tasked with working with the actual information in the dataset and performing your own independent analysis on real-world data! We will not be providing step-by-step instructions on what to do, but we will provide you with a framework to structure your exploration and analysis.For this project, you will be investigating a medical insurance costs dataset in a .csv file using the Python skills that you've developed. This dataset and its parameters will seem familiar if you've done any of the previous Python projects in the data science path.\n",
    "\n",
    "However, you're now tasked with working with the actual information in the dataset and performing your own independent analysis on real-world data! We will not be providing step-by-step instructions on what to do, but we will provide you with a framework to structure your exploration and analysis.\n",
    "\n",
    "# Project Objectives\n",
    "\n",
    "- Work locally on your own computer\n",
    "- Import a dataset into your program\n",
    "- Analyze a dataset by building out functions or class methods\n",
    "- Use libraries to assist in your analysis\n",
    "- Optional: Document and organize your findings\n",
    "- Optional: Make predictions about a dataset’s features based on your findings\n",
    "\n",
    "# Project Requirements\n",
    "\n",
    "- This project was built using Python 3.11 and Jupyter Notebook.\n",
    "- You will need to install the following libraries:\n",
    "    - matplotlib (For data visualization, this is not a requirement, but plots won't be shown if you don't have it installed)"
   ]
  },
  {
   "cell_type": "markdown",
   "metadata": {},
   "source": [
    "# Project: U.S. Medical Insurance Costs\n",
    "\n",
    "A dataset containing information on medical insurance costs for individuals in the United States was provided by Codecademy.\n",
    "To learn about the dataset, I first want to explore the data and get a feel for what it contains.\n",
    "For that, I will use python to import the CSV file and print the headers and the number of rows.\n",
    "\n",
    "I'm also going to save the contents of the CSV file in a list of dictionaries, where each dictionary represents a row of the dataset.\n",
    "I will do this to avoid having to read the CSV file multiple times."
   ]
  },
  {
   "cell_type": "markdown",
   "metadata": {},
   "source": [
    "Note: This next cell *needs* to be run first, otherwise the rest of the notebook will not work."
   ]
  },
  {
   "cell_type": "code",
   "execution_count": 1,
   "metadata": {
    "ExecuteTime": {
     "end_time": "2023-08-24T00:29:54.107104Z",
     "start_time": "2023-08-24T00:29:46.909381Z"
    }
   },
   "outputs": [
    {
     "name": "stdout",
     "output_type": "stream",
     "text": [
      "Headers: ['age', 'sex', 'bmi', 'children', 'smoker', 'region', 'charges']\n",
      "Number of rows: 1338\n"
     ]
    }
   ],
   "source": [
    "import csv\n",
    "\n",
    "# Modify this if the file is in a different location\n",
    "FILE_PATH = '../../data/raw/insurance.csv'\n",
    "\n",
    "# Read the CSV file and save the contents in a list of dictionaries\n",
    "with open(FILE_PATH) as insurance_csv:\n",
    "    insurance_dict = csv.DictReader(insurance_csv)\n",
    "    INSURANCE_DATA = list(insurance_dict)\n",
    "\n",
    "    # Show the information of the dataset\n",
    "    print('Headers:', insurance_dict.fieldnames)\n",
    "    print('Number of rows:', len(INSURANCE_DATA))"
   ]
  },
  {
   "cell_type": "markdown",
   "metadata": {},
   "source": [
    "## What I found\n",
    "From the headers, we can see that the data is organized by the following:\n",
    "(The Data type is not included in the headers, but I will include it in the table below)\n",
    "\n",
    "| Field Name | Data Type |\n",
    "|------------|-----------|\n",
    "| age        | int       |\n",
    "| sex        | str       |\n",
    "| bmi        | float     |\n",
    "| children   | int       |\n",
    "| smoker     | str       |\n",
    "| region     | str       |\n",
    "| charges    | float     |\n",
    "\n",
    "There are 1338 rows in the dataset.\n",
    "\n",
    "Additionally, Codecademy provided the following information about the dataset:\n",
    "\n",
    "- There is no missing data (the dataset has been cleaned too).\n",
    "- There are seven columns.\n",
    "- Some columns are numerical while some are categorical.\n",
    "\n",
    "## What I would change about the dataset\n",
    "\n",
    "I would change the data type of the `sex` and `smoker` fields to be `bool` instead of `str`.\n",
    "This would make it easier to work with the data in Python.\n",
    "This wasn't done in this project because the focus was on learning how to work with data in Python, not on cleaning the data."
   ]
  },
  {
   "cell_type": "markdown",
   "metadata": {},
   "source": [
    "# Exploring the data\n",
    "\n",
    "Now that I know how the dataset is organized, I'm going to explore the dataset by exploring different fields and their statistics."
   ]
  },
  {
   "cell_type": "markdown",
   "metadata": {},
   "source": [
    "### Statistics (Numerical Fields)\n",
    "\n",
    "First, I want to find the average, median, mode, and standard deviation of each field. This will give me a general idea of the data.\n",
    "Additionally, I will add a boxplot to visualize the data for each field."
   ]
  },
  {
   "cell_type": "markdown",
   "metadata": {},
   "source": [
    "#### Average, median, mode, standard deviation and percentiles\n",
    "\n",
    "To find the average, median, mode, standard deviation and percentiles of each field, I will create functions for each of these statistics."
   ]
  },
  {
   "cell_type": "markdown",
   "metadata": {},
   "source": [
    "##### Average"
   ]
  },
  {
   "cell_type": "code",
   "execution_count": 2,
   "metadata": {
    "ExecuteTime": {
     "end_time": "2023-08-24T00:29:54.107816Z",
     "start_time": "2023-08-24T00:29:46.916445Z"
    }
   },
   "outputs": [],
   "source": [
    "def find_average_on_numeric_field(data: list[dict], field_name: str) -> float:\n",
    "    \"\"\"\n",
    "    Find the average of a numeric field in a list of dictionaries.\n",
    "    The average is rounded to two decimal places.\n",
    "\n",
    "    Args:\n",
    "        data (list): A list of dictionaries.\n",
    "        field_name (str): The name of the field to find the average of.\n",
    "\n",
    "    Returns:\n",
    "        float: The average of the field.\n",
    "    \"\"\"\n",
    "    return round(sum([float(row[field_name]) for row in data]) / len(data), 2)"
   ]
  },
  {
   "cell_type": "markdown",
   "metadata": {},
   "source": []
  },
  {
   "cell_type": "markdown",
   "metadata": {},
   "source": [
    "##### Median"
   ]
  },
  {
   "cell_type": "code",
   "execution_count": 3,
   "metadata": {
    "ExecuteTime": {
     "end_time": "2023-08-24T00:29:54.108027Z",
     "start_time": "2023-08-24T00:29:46.922265Z"
    }
   },
   "outputs": [],
   "source": [
    "def find_median_on_numeric_field(data: list[dict], field_name: str) -> float:\n",
    "    \"\"\"\n",
    "    Find the median of a numeric field in a list of dictionaries.\n",
    "    The median is rounded to two decimal places.\n",
    "\n",
    "    Args:\n",
    "        data (list): A list of dictionaries.\n",
    "        field_name (str): The name of the field to find the median of.\n",
    "\n",
    "    Returns:\n",
    "        float: The median of the field.\n",
    "    \"\"\"\n",
    "    sorted_data = sorted([float(row[field_name]) for row in data])\n",
    "    if len(sorted_data) % 2 == 0:\n",
    "        calculated_median = (sorted_data[len(sorted_data) // 2] + sorted_data[len(sorted_data) // 2 - 1]) / 2\n",
    "    else:\n",
    "        calculated_median = sorted_data[len(sorted_data) // 2]\n",
    "\n",
    "    return round(calculated_median, 2)"
   ]
  },
  {
   "cell_type": "markdown",
   "metadata": {},
   "source": [
    "##### Mode"
   ]
  },
  {
   "cell_type": "code",
   "execution_count": 4,
   "metadata": {
    "ExecuteTime": {
     "end_time": "2023-08-24T00:29:54.347405Z",
     "start_time": "2023-08-24T00:29:46.926145Z"
    }
   },
   "outputs": [],
   "source": [
    "def find_mode_on_numeric_field(data: list[dict], field_name: str):\n",
    "    \"\"\"\n",
    "    Find the mode of a numeric field in a list of dictionaries.\n",
    "\n",
    "    Args:\n",
    "        data (list): A list of dictionaries.\n",
    "        field_name (str): The name of the field to find the mode of.\n",
    "\n",
    "    Returns:\n",
    "        tuple: The mode of the field and the number of times the mode appears.\n",
    "    \"\"\"\n",
    "    value_counts = {}\n",
    "    for row in data:\n",
    "        if float(row[field_name]) in value_counts:\n",
    "            value_counts[float(row[field_name])] += 1\n",
    "        else:\n",
    "            value_counts[float(row[field_name])] = 1\n",
    "\n",
    "    calculated_mode = max(value_counts, key=value_counts.get)\n",
    "    return calculated_mode, value_counts[calculated_mode]"
   ]
  },
  {
   "cell_type": "markdown",
   "metadata": {},
   "source": [
    "##### Standard Deviation"
   ]
  },
  {
   "cell_type": "code",
   "execution_count": 5,
   "metadata": {
    "ExecuteTime": {
     "end_time": "2023-08-24T00:29:54.424467Z",
     "start_time": "2023-08-24T00:29:46.929139Z"
    }
   },
   "outputs": [],
   "source": [
    "def find_standard_deviation_on_numeric_field(data: list[dict], field_name: str) -> float:\n",
    "    \"\"\"\n",
    "    Find the standard deviation of a numeric field in a list of dictionaries.\n",
    "    The standard deviation is rounded to two decimal places.\n",
    "\n",
    "    Args:\n",
    "        data (list): A list of dictionaries.\n",
    "        field_name (str): The name of the field to find the standard deviation of.\n",
    "\n",
    "    Returns:\n",
    "        float: The standard deviation of the field.\n",
    "    \"\"\"\n",
    "    calculated_average = find_average_on_numeric_field(data, field_name)\n",
    "    sum_of_squared_differences = sum([(float(row[field_name]) - calculated_average) ** 2 for row in data])\n",
    "    return round((sum_of_squared_differences / len(data)) ** 0.5, 2)"
   ]
  },
  {
   "cell_type": "markdown",
   "metadata": {},
   "source": [
    "##### Percentiles"
   ]
  },
  {
   "cell_type": "code",
   "execution_count": 6,
   "metadata": {
    "ExecuteTime": {
     "end_time": "2023-08-24T00:29:54.424791Z",
     "start_time": "2023-08-24T00:29:46.932468Z"
    }
   },
   "outputs": [],
   "source": [
    "def find_percentiles_on_numeric_field(data: list[dict], field_name: str) -> tuple[float, float, float]:\n",
    "    \"\"\"\n",
    "    Find the 25th, 50th, and 75th percentiles of a numeric field in a list of dictionaries.\n",
    "    The percentiles are rounded to two decimal places.\n",
    "\n",
    "    Args:\n",
    "        data (list): A list of dictionaries.\n",
    "        field_name (str): The name of the field to find the percentiles of.\n",
    "\n",
    "    Returns:\n",
    "        tuple: The 25th, 50th, and 75th percentiles of the field.\n",
    "    \"\"\"\n",
    "    sorted_data = sorted([float(row[field_name]) for row in data])\n",
    "\n",
    "    percentile_25 = round(sorted_data[len(sorted_data) // 4], 2)\n",
    "    percentile_50 = round(sorted_data[len(sorted_data) // 2], 2)\n",
    "    percentile_75 = round(sorted_data[len(sorted_data) // 4 * 3], 2)\n",
    "\n",
    "    return percentile_25, percentile_50, percentile_75"
   ]
  },
  {
   "cell_type": "markdown",
   "metadata": {},
   "source": [
    "##### Testing the functions\n",
    "\n",
    "Now that I've established the functions, I will use them to find the statistics for each field."
   ]
  },
  {
   "cell_type": "code",
   "execution_count": 7,
   "metadata": {
    "ExecuteTime": {
     "end_time": "2023-08-24T00:29:54.425211Z",
     "start_time": "2023-08-24T00:29:46.940977Z"
    }
   },
   "outputs": [
    {
     "name": "stdout",
     "output_type": "stream",
     "text": [
      "Field: age\n",
      "\tAverage: 39.21\n",
      "\tMedian: 39.0\n",
      "\tMode: 18.0 (69 times)\n",
      "\tStandard Deviation: 14.04\n",
      "\tPercentiles:\n",
      "\t\t25th: 27.0\n",
      "\t\t50th: 39.0\n",
      "\t\t75th: 51.0\n",
      "\n",
      "Field: bmi\n",
      "\tAverage: 30.66\n",
      "\tMedian: 30.4\n",
      "\tMode: 32.3 (13 times)\n",
      "\tStandard Deviation: 6.1\n",
      "\tPercentiles:\n",
      "\t\t25th: 26.29\n",
      "\t\t50th: 30.4\n",
      "\t\t75th: 34.67\n",
      "\n",
      "Field: children\n",
      "\tAverage: 1.09\n",
      "\tMedian: 1.0\n",
      "\tMode: 0.0 (574 times)\n",
      "\tStandard Deviation: 1.21\n",
      "\tPercentiles:\n",
      "\t\t25th: 0.0\n",
      "\t\t50th: 1.0\n",
      "\t\t75th: 2.0\n",
      "\n",
      "Field: charges\n",
      "\tAverage: 13270.42\n",
      "\tMedian: 9382.03\n",
      "\tMode: 1639.5631 (2 times)\n",
      "\tStandard Deviation: 12105.48\n",
      "\tPercentiles:\n",
      "\t\t25th: 4738.27\n",
      "\t\t50th: 9386.16\n",
      "\t\t75th: 16586.5\n"
     ]
    }
   ],
   "source": [
    "def find_numeric_field_statistics(numeric_fields: list[str]):\n",
    "    \"\"\"\n",
    "    Find the average, median, mode, standard deviation, and percentiles of a list of numeric fields.\n",
    "\n",
    "    Args:\n",
    "        numeric_fields (list): A list of numeric fields to find the statistics of.\n",
    "    \"\"\"\n",
    "    for numeric_field in numeric_fields:\n",
    "        average = find_average_on_numeric_field(INSURANCE_DATA, numeric_field)\n",
    "        median = find_median_on_numeric_field(INSURANCE_DATA, numeric_field)\n",
    "        mode, mode_count = find_mode_on_numeric_field(INSURANCE_DATA, numeric_field)\n",
    "        standard_deviation = find_standard_deviation_on_numeric_field(INSURANCE_DATA, numeric_field)\n",
    "        percentiles = find_percentiles_on_numeric_field(INSURANCE_DATA, numeric_field)\n",
    "\n",
    "        print(f'Field: {numeric_field}'\n",
    "              f'\\n\\tAverage: {average}'\n",
    "              f'\\n\\tMedian: {median}'\n",
    "              f'\\n\\tMode: {mode} ({mode_count} times)'\n",
    "              f'\\n\\tStandard Deviation: {standard_deviation}'\n",
    "              f'\\n\\tPercentiles:'\n",
    "              f'\\n\\t\\t25th: {percentiles[0]}'\n",
    "              f'\\n\\t\\t50th: {percentiles[1]}'\n",
    "              f'\\n\\t\\t75th: {percentiles[2]}'\n",
    "              f'\\n')\n",
    "\n",
    "\n",
    "NUMERIC_FIELDS = ['age', 'bmi', 'children', 'charges']\n",
    "find_numeric_field_statistics(NUMERIC_FIELDS)"
   ]
  },
  {
   "cell_type": "markdown",
   "metadata": {},
   "source": [
    "#### Box Plots\n",
    "\n",
    "For visualization purposes (Which is not an original objective of the project), I will create box plots for each of the numeric fields.\n",
    "\n",
    "I will use the [matplotlib](https://matplotlib.org/) library to create the box plots. I will also use matplotlib to create multiple plots later on."
   ]
  },
  {
   "cell_type": "code",
   "execution_count": 8,
   "metadata": {
    "ExecuteTime": {
     "end_time": "2023-08-24T00:29:54.425756Z",
     "start_time": "2023-08-24T00:29:46.945236Z"
    }
   },
   "outputs": [
    {
     "data": {
      "text/plain": "<Figure size 1000x1000 with 4 Axes>",
      "image/png": "[encoded data removed]"
     },
     "metadata": {},
     "output_type": "display_data"
    }
   ],
   "source": [
    "def plot_box_plots_for_numerical_fields(data, numeric_fields):\n",
    "    from matplotlib import pyplot as plt\n",
    "\n",
    "    fig, axes = plt.subplots(2, 2, figsize=(10, 10))\n",
    "\n",
    "    for i, numeric_field in enumerate(numeric_fields):\n",
    "        plot_row = i // 2\n",
    "        plot_col = i % 2\n",
    "\n",
    "        values = [float(row[numeric_field.lower()]) for row in data]\n",
    "        axes[plot_row, plot_col].boxplot(values, vert=False)\n",
    "        axes[plot_row, plot_col].set_title(numeric_field)\n",
    "        axes[plot_row, plot_col].set_yticklabels([])\n",
    "\n",
    "    plt.show()\n",
    "\n",
    "\n",
    "plot_box_plots_for_numerical_fields(INSURANCE_DATA, NUMERIC_FIELDS)"
   ]
  },
  {
   "cell_type": "markdown",
   "metadata": {},
   "source": [
    "#### Histograms\n",
    "\n",
    "The last visualization I will create is a histogram for each of the numeric fields. This can further help us visualize the data before finding the relationships between the fields and other tests."
   ]
  },
  {
   "cell_type": "markdown",
   "metadata": {},
   "source": [
    "First, I will create a function to create the histograms."
   ]
  },
  {
   "cell_type": "code",
   "execution_count": 9,
   "metadata": {
    "ExecuteTime": {
     "end_time": "2023-08-24T00:29:54.425933Z",
     "start_time": "2023-08-24T00:29:47.710957Z"
    }
   },
   "outputs": [],
   "source": [
    "def plot_histograms_for_numerical_fields(data, numeric_fields):\n",
    "    from matplotlib import pyplot as plt\n",
    "\n",
    "    fig, axes = plt.subplots(2, 2, figsize=(10, 10))\n",
    "\n",
    "    for i, numeric_field in enumerate(numeric_fields):\n",
    "        plot_row = i // 2\n",
    "        plot_col = i % 2\n",
    "\n",
    "        values = [float(row[numeric_field.lower()]) for row in data]\n",
    "\n",
    "        axes[plot_row, plot_col].hist(values)\n",
    "        axes[plot_row, plot_col].set_title(numeric_field)\n",
    "\n",
    "    plt.show()"
   ]
  },
  {
   "cell_type": "markdown",
   "metadata": {},
   "source": [
    "Then the plots can be created."
   ]
  },
  {
   "cell_type": "code",
   "execution_count": 10,
   "metadata": {
    "ExecuteTime": {
     "end_time": "2023-08-24T00:29:54.426217Z",
     "start_time": "2023-08-24T00:29:47.716321Z"
    }
   },
   "outputs": [
    {
     "data": {
      "text/plain": "<Figure size 1000x1000 with 4 Axes>",
      "image/png": "[encoded data removed]"
     },
     "metadata": {},
     "output_type": "display_data"
    }
   ],
   "source": [
    "plot_histograms_for_numerical_fields(INSURANCE_DATA, NUMERIC_FIELDS)"
   ]
  },
  {
   "cell_type": "markdown",
   "metadata": {},
   "source": [
    "### Statistics (Categorical Fields)\n",
    "\n",
    "Now that I've found the statistics for the numeric fields, I will find the statistics for the categorical fields.\n",
    "\n",
    "Unlike the numeric fields, the categorical fields will not have a median, mode, or standard deviation. However, they will have a mode with its corresponding count.\n",
    "\n",
    "For this, I will create a function to find the mode of a categorical field."
   ]
  },
  {
   "cell_type": "markdown",
   "metadata": {},
   "source": [
    "#### Mode"
   ]
  },
  {
   "cell_type": "code",
   "execution_count": 11,
   "metadata": {
    "ExecuteTime": {
     "end_time": "2023-08-24T00:29:54.426352Z",
     "start_time": "2023-08-24T00:29:47.981999Z"
    }
   },
   "outputs": [],
   "source": [
    "def find_mode_on_categorical_field(data: list[dict], field_name: str):\n",
    "    \"\"\"\n",
    "    Find the mode of a categorical field in a list of dictionaries.\n",
    "\n",
    "    Args:\n",
    "        data (list): A list of dictionaries.\n",
    "        field_name (str): The name of the field to find the mode of.\n",
    "\n",
    "    Returns:\n",
    "        tuple: The mode of the field and the number of times the mode appears.\n",
    "    \"\"\"\n",
    "    value_counts = {}\n",
    "    for row in data:\n",
    "        if row[field_name] in value_counts:\n",
    "            value_counts[row[field_name]] += 1\n",
    "        else:\n",
    "            value_counts[row[field_name]] = 1\n",
    "\n",
    "    calculated_mode = max(value_counts, key=value_counts.get)\n",
    "    return calculated_mode, value_counts[calculated_mode]"
   ]
  },
  {
   "cell_type": "markdown",
   "metadata": {},
   "source": [
    "Now that I've created the function, I will use it to find the mode of each categorical field."
   ]
  },
  {
   "cell_type": "code",
   "execution_count": 12,
   "metadata": {
    "ExecuteTime": {
     "end_time": "2023-08-24T00:29:54.426632Z",
     "start_time": "2023-08-24T00:29:47.987071Z"
    }
   },
   "outputs": [
    {
     "name": "stdout",
     "output_type": "stream",
     "text": [
      "Field: sex\n",
      "\tMode: male (676 times)\n",
      "\n",
      "Field: smoker\n",
      "\tMode: no (1064 times)\n",
      "\n",
      "Field: region\n",
      "\tMode: southeast (364 times)\n"
     ]
    }
   ],
   "source": [
    "def find_categorical_field_statistics(categorical_fields: list[str]):\n",
    "    \"\"\"\n",
    "    Find the mode of a categorical field in a list of dictionaries.\n",
    "\n",
    "    Args:\n",
    "        categorical_fields (list): A list of categorical fields to find the mode of.\n",
    "    \"\"\"\n",
    "    for categorical_field in categorical_fields:\n",
    "        mode, mode_count = find_mode_on_categorical_field(INSURANCE_DATA, categorical_field)\n",
    "        print(f'Field: {categorical_field}'\n",
    "              f'\\n\\tMode: {mode} ({mode_count} times)'\n",
    "              f'\\n')\n",
    "\n",
    "\n",
    "CATEGORICAL_FIELDS = ['sex', 'smoker', 'region']\n",
    "find_categorical_field_statistics(CATEGORICAL_FIELDS)"
   ]
  },
  {
   "cell_type": "markdown",
   "metadata": {},
   "source": [
    "### Relationships\n",
    "\n",
    "Now that I've found the statistics for the fields, I will find the relationships between the fields.\n",
    "\n",
    "These relationships will be first order relationships. This means that I will only be looking at the relationship between two fields at a time.\n",
    "\n",
    "The relationships I will be looking at are:\n",
    "- Age and BMI\n",
    "- Age and Children\n",
    "- Age and Charges\n",
    "- BMI and Children\n",
    "- BMI and Charges\n",
    "- Children and Charges\n",
    "\n",
    "Additionally, for categorical fields, I will be looking at the relationship between the categorical field's different unique values and the charges, which are:\n",
    "- Sex: \"male\" or \"female\"\n",
    "- Smoker: \"yes\" or \"no\"\n",
    "- Region: \"northeast\", \"northwest\", \"southeast\", or \"southwest\""
   ]
  },
  {
   "cell_type": "markdown",
   "metadata": {},
   "source": [
    "#### Relationships (Numeric Fields)\n",
    "\n",
    "To find the relationships between the numeric fields, I will create a function to find the lowest and highest values of a field. This will be used to divide the leading field into groups. The leading field is the field that will be divided into groups. The trailing field is the field that will be compared to the groups of the leading fields."
   ]
  },
  {
   "cell_type": "code",
   "execution_count": 13,
   "metadata": {
    "ExecuteTime": {
     "end_time": "2023-08-24T00:29:54.426822Z",
     "start_time": "2023-08-24T00:29:47.989895Z"
    }
   },
   "outputs": [],
   "source": [
    "def find_lowest_and_highest_values(data: list[dict], field_name: str):\n",
    "    \"\"\"\n",
    "    Find the lowest and highest values of a field in a list of dictionaries.\n",
    "\n",
    "    Args:\n",
    "        data (list): A list of dictionaries.\n",
    "        field_name (str): The name of the field to find the lowest and highest values of.\n",
    "\n",
    "    Returns:\n",
    "        tuple: The lowest and highest values of the field.\n",
    "    \"\"\"\n",
    "    values = [float(row[field_name]) for row in data]\n",
    "    return min(values), max(values)"
   ]
  },
  {
   "cell_type": "markdown",
   "metadata": {},
   "source": [
    "I will now make a function that takes a dataset, a leading field, a trailing field, and the number of groups to divide the leading field into. This function will divide the leading field into groups."
   ]
  },
  {
   "cell_type": "code",
   "execution_count": 14,
   "metadata": {
    "ExecuteTime": {
     "end_time": "2023-08-24T00:29:54.426963Z",
     "start_time": "2023-08-24T00:29:47.993102Z"
    }
   },
   "outputs": [],
   "source": [
    "def divide_leading_field_into_groups(data: list[dict], leading_field_name: str, num_groups: int):\n",
    "    \"\"\"\n",
    "    Divide a leading field into groups.\n",
    "\n",
    "    Args:\n",
    "        data (list): A list of dictionaries.\n",
    "        leading_field_name (str): The name of the leading field.\n",
    "        num_groups (int): The number of groups to divide the leading field into.\n",
    "\n",
    "    Returns:\n",
    "        list: A list of tuples, where each tuple contains the lower and upper bounds of a group.\n",
    "    \"\"\"\n",
    "    lowest_value, highest_value = find_lowest_and_highest_values(data, leading_field_name)\n",
    "\n",
    "    group_size = (highest_value - lowest_value) // num_groups  # use integer division to get an integer group size\n",
    "    groups = [(lowest_value + (group_size * i), lowest_value + (group_size * (i + 1) - 1))\n",
    "              for i in range(num_groups)]\n",
    "    groups.append((lowest_value + (group_size * num_groups), highest_value))\n",
    "\n",
    "    return groups"
   ]
  },
  {
   "cell_type": "markdown",
   "metadata": {},
   "source": [
    "Now I can implement a function that takes in a dataset, a leading field, a trailing field, and the number of groups to divide the leading field into. This function will return the statistics of the trailing field for each group of the leading fields. I will also implement sub-functions to find the median, mode, standard deviation and percentiles of a list of values to find the statistics of the trailing field."
   ]
  },
  {
   "cell_type": "code",
   "execution_count": 15,
   "metadata": {
    "ExecuteTime": {
     "end_time": "2023-08-24T00:29:54.427350Z",
     "start_time": "2023-08-24T00:29:47.998769Z"
    }
   },
   "outputs": [],
   "source": [
    "def find_median(values: list[float]):\n",
    "    values.sort()\n",
    "    if len(values) % 2 == 0:\n",
    "        calculated_median = (values[len(values) // 2] + values[len(values) // 2 - 1]) / 2\n",
    "    else:\n",
    "        calculated_median = values[len(values) // 2]\n",
    "    return calculated_median\n",
    "\n",
    "\n",
    "def find_mode(values: list[float]):\n",
    "    value_counts = {}\n",
    "\n",
    "    for value in values:\n",
    "        if value in value_counts:\n",
    "            value_counts[value] += 1\n",
    "        else:\n",
    "            value_counts[value] = 1\n",
    "    calculated_mode = max(value_counts, key=value_counts.get)\n",
    "    return calculated_mode\n",
    "\n",
    "\n",
    "def find_average(values: list[float]):\n",
    "    return sum(values) / len(values)\n",
    "\n",
    "\n",
    "def find_standard_deviation(values: list[float]):\n",
    "    calculated_average = find_average(values)\n",
    "    return (sum([(value - calculated_average) ** 2 for value in values]) / len(values)) ** 0.5\n",
    "\n",
    "\n",
    "def find_percentiles(values: list[float]):\n",
    "    values.sort()\n",
    "    percentile_25 = values[len(values) // 4]\n",
    "    percentile_50 = values[len(values) // 2]\n",
    "    percentile_75 = values[len(values) // 4 * 3]\n",
    "    return percentile_25, percentile_50, percentile_75\n",
    "\n",
    "\n",
    "def find_relationship_between_two_numeric_fields(data: list[dict],\n",
    "                                                 leading_field_name: str,\n",
    "                                                 trailing_field_name: str,\n",
    "                                                 num_groups: int):\n",
    "    \"\"\"\n",
    "    Find the relationship between two numeric fields.\n",
    "\n",
    "    Args:\n",
    "        data (list): A list of dictionaries.\n",
    "        leading_field_name (str): The name of the leading field.\n",
    "        trailing_field_name (str): The name of the trailing field.\n",
    "        num_groups (int): The number of groups to divide the leading field into.\n",
    "\n",
    "    Returns:\n",
    "        dict: A dictionary where the keys are the groups of the leading fields and the values are the statistics of the trailing field.\n",
    "    \"\"\"\n",
    "    groups = divide_leading_field_into_groups(data, leading_field_name, num_groups)\n",
    "    calculated_statistics = {}\n",
    "\n",
    "    for group_name in groups:\n",
    "        values = [float(row[trailing_field_name]) for row in data if\n",
    "                  group_name[0] <= float(row[leading_field_name]) <= group_name[1]]\n",
    "\n",
    "        if len(values) != 0:\n",
    "            calculated_statistics[group_name] = [\n",
    "                sum(values) / len(values),\n",
    "                find_median(values),\n",
    "                find_mode(values),\n",
    "                find_standard_deviation(values),\n",
    "                find_percentiles(values)\n",
    "            ]\n",
    "\n",
    "    return calculated_statistics"
   ]
  },
  {
   "cell_type": "markdown",
   "metadata": {
    "collapsed": false
   },
   "source": [
    "Finally, I created a function to standardize outputting the statistics."
   ]
  },
  {
   "cell_type": "code",
   "execution_count": 16,
   "metadata": {
    "collapsed": false,
    "ExecuteTime": {
     "end_time": "2023-08-24T00:29:54.427644Z",
     "start_time": "2023-08-24T00:29:48.002573Z"
    }
   },
   "outputs": [],
   "source": [
    "def show_relationship_statistics(data: list[dict],\n",
    "                                 leading_field_name: str,\n",
    "                                 trailing_field_name: str,\n",
    "                                 num_groups: int):\n",
    "    \"\"\"\n",
    "    Show the relationship statistics between two numeric fields.\n",
    "\n",
    "    Args:\n",
    "        data (list): A list of dictionaries.\n",
    "        leading_field_name (str): The name of the leading field.\n",
    "        trailing_field_name (str): The name of the trailing field.\n",
    "        num_groups (int): The number of groups to divide the leading field into.\n",
    "    \"\"\"\n",
    "    calculated_statistics = find_relationship_between_two_numeric_fields(data,\n",
    "                                                                         leading_field_name,\n",
    "                                                                         trailing_field_name,\n",
    "                                                                         num_groups)\n",
    "    for group, statistics in calculated_statistics.items():\n",
    "        print(f'Group: {group}'\n",
    "              f'\\n\\tAverage: {statistics[0]}'\n",
    "              f'\\n\\tMedian: {statistics[1]}'\n",
    "              f'\\n\\tMode: {statistics[2]}'\n",
    "              f'\\n\\tStandard Deviation: {statistics[3]}'\n",
    "              f'\\n\\tPercentiles:'\n",
    "              f'\\n\\t\\t25th: {statistics[4][0]}'\n",
    "              f'\\n\\t\\t50th: {statistics[4][1]}'\n",
    "              f'\\n\\t\\t75th: {statistics[4][2]}'\n",
    "              f'\\n')"
   ]
  },
  {
   "cell_type": "markdown",
   "metadata": {},
   "source": [
    "##### Age and BMI"
   ]
  },
  {
   "cell_type": "code",
   "execution_count": 17,
   "metadata": {
    "ExecuteTime": {
     "end_time": "2023-08-24T00:29:54.428448Z",
     "start_time": "2023-08-24T00:29:48.007515Z"
    }
   },
   "outputs": [
    {
     "name": "stdout",
     "output_type": "stream",
     "text": [
      "Group: (18.0, 21.0)\n",
      "\tAverage: 29.81260309278351\n",
      "\tMedian: 30.072499999999998\n",
      "\tMode: 30.59\n",
      "\tStandard Deviation: 6.274752145447225\n",
      "\tPercentiles:\n",
      "\t\t25th: 25.46\n",
      "\t\t50th: 30.115\n",
      "\t\t75th: 33.88\n",
      "\n",
      "Group: (22.0, 25.0)\n",
      "\tAverage: 30.344687499999992\n",
      "\tMedian: 29.877499999999998\n",
      "\tMode: 23.18\n",
      "\tStandard Deviation: 6.346795425971242\n",
      "\tPercentiles:\n",
      "\t\t25th: 25.84\n",
      "\t\t50th: 29.925\n",
      "\t\t75th: 33.99\n",
      "\n",
      "Group: (26.0, 29.0)\n",
      "\tAverage: 29.407162162162177\n",
      "\tMedian: 29.64\n",
      "\tMode: 22.515\n",
      "\tStandard Deviation: 5.959988308744414\n",
      "\tPercentiles:\n",
      "\t\t25th: 24.75\n",
      "\t\t50th: 29.64\n",
      "\t\t75th: 33.0\n",
      "\n",
      "Group: (30.0, 33.0)\n",
      "\tAverage: 30.798396226415097\n",
      "\tMedian: 29.92\n",
      "\tMode: 27.645\n",
      "\tStandard Deviation: 6.2990107619255316\n",
      "\tPercentiles:\n",
      "\t\t25th: 26.62\n",
      "\t\t50th: 30.03\n",
      "\t\t75th: 35.3\n",
      "\n",
      "Group: (34.0, 37.0)\n",
      "\tAverage: 30.562029702970314\n",
      "\tMedian: 29.92\n",
      "\tMode: 27.74\n",
      "\tStandard Deviation: 5.893596339332965\n",
      "\tPercentiles:\n",
      "\t\t25th: 26.885\n",
      "\t\t50th: 29.92\n",
      "\t\t75th: 34.32\n",
      "\n",
      "Group: (38.0, 41.0)\n",
      "\tAverage: 30.164519230769237\n",
      "\tMedian: 29.9125\n",
      "\tMode: 19.95\n",
      "\tStandard Deviation: 5.956269544290752\n",
      "\tPercentiles:\n",
      "\t\t25th: 26.315\n",
      "\t\t50th: 29.925\n",
      "\t\t75th: 34.1\n",
      "\n",
      "Group: (42.0, 45.0)\n",
      "\tAverage: 30.27968181818181\n",
      "\tMedian: 29.95\n",
      "\tMode: 38.06\n",
      "\tStandard Deviation: 5.690080814143821\n",
      "\tPercentiles:\n",
      "\t\t25th: 25.7\n",
      "\t\t50th: 30.0\n",
      "\t\t75th: 34.96\n",
      "\n",
      "Group: (46.0, 49.0)\n",
      "\tAverage: 31.067695652173924\n",
      "\tMedian: 30.3\n",
      "\tMode: 32.3\n",
      "\tStandard Deviation: 6.026922074324594\n",
      "\tPercentiles:\n",
      "\t\t25th: 27.1\n",
      "\t\t50th: 30.3\n",
      "\t\t75th: 34.6\n",
      "\n",
      "Group: (50.0, 53.0)\n",
      "\tAverage: 31.549304347826084\n",
      "\tMedian: 31.635\n",
      "\tMode: 32.3\n",
      "\tStandard Deviation: 6.457158746793006\n",
      "\tPercentiles:\n",
      "\t\t25th: 26.41\n",
      "\t\t50th: 31.635\n",
      "\t\t75th: 36.2\n",
      "\n",
      "Group: (54.0, 57.0)\n",
      "\tAverage: 31.404150943396214\n",
      "\tMedian: 31.39\n",
      "\tMode: 32.775\n",
      "\tStandard Deviation: 5.9281545010683425\n",
      "\tPercentiles:\n",
      "\t\t25th: 27.645\n",
      "\t\t50th: 31.54\n",
      "\t\t75th: 34.21\n",
      "\n",
      "Group: (58.0, 64.0)\n",
      "\tAverage: 31.903140243902442\n",
      "\tMedian: 32.0125\n",
      "\tMode: 32.965\n",
      "\tStandard Deviation: 5.616709748693034\n",
      "\tPercentiles:\n",
      "\t\t25th: 27.55\n",
      "\t\t50th: 32.015\n",
      "\t\t75th: 36.385\n"
     ]
    }
   ],
   "source": [
    "show_relationship_statistics(INSURANCE_DATA, 'age', 'bmi', 10)"
   ]
  },
  {
   "cell_type": "markdown",
   "metadata": {},
   "source": [
    "##### Age and Children"
   ]
  },
  {
   "cell_type": "code",
   "execution_count": 18,
   "metadata": {
    "ExecuteTime": {
     "end_time": "2023-08-24T00:29:54.428955Z",
     "start_time": "2023-08-24T00:29:48.012185Z"
    }
   },
   "outputs": [
    {
     "name": "stdout",
     "output_type": "stream",
     "text": [
      "Group: (18.0, 21.0)\n",
      "\tAverage: 0.5515463917525774\n",
      "\tMedian: 0.0\n",
      "\tMode: 0.0\n",
      "\tStandard Deviation: 1.015306911301437\n",
      "\tPercentiles:\n",
      "\t\t25th: 0.0\n",
      "\t\t50th: 0.0\n",
      "\t\t75th: 1.0\n",
      "\n",
      "Group: (22.0, 25.0)\n",
      "\tAverage: 0.8660714285714286\n",
      "\tMedian: 0.0\n",
      "\tMode: 0.0\n",
      "\tStandard Deviation: 1.2355994475953602\n",
      "\tPercentiles:\n",
      "\t\t25th: 0.0\n",
      "\t\t50th: 0.0\n",
      "\t\t75th: 2.0\n",
      "\n",
      "Group: (26.0, 29.0)\n",
      "\tAverage: 1.1441441441441442\n",
      "\tMedian: 1.0\n",
      "\tMode: 0.0\n",
      "\tStandard Deviation: 1.1456682761787047\n",
      "\tPercentiles:\n",
      "\t\t25th: 0.0\n",
      "\t\t50th: 1.0\n",
      "\t\t75th: 2.0\n",
      "\n",
      "Group: (30.0, 33.0)\n",
      "\tAverage: 1.4433962264150944\n",
      "\tMedian: 1.0\n",
      "\tMode: 1.0\n",
      "\tStandard Deviation: 1.2520186619204532\n",
      "\tPercentiles:\n",
      "\t\t25th: 0.0\n",
      "\t\t50th: 1.0\n",
      "\t\t75th: 2.0\n",
      "\n",
      "Group: (34.0, 37.0)\n",
      "\tAverage: 1.396039603960396\n",
      "\tMedian: 1.0\n",
      "\tMode: 1.0\n",
      "\tStandard Deviation: 1.126452487392309\n",
      "\tPercentiles:\n",
      "\t\t25th: 0.0\n",
      "\t\t50th: 1.0\n",
      "\t\t75th: 2.0\n",
      "\n",
      "Group: (38.0, 41.0)\n",
      "\tAverage: 1.6634615384615385\n",
      "\tMedian: 1.0\n",
      "\tMode: 1.0\n",
      "\tStandard Deviation: 1.260422524722722\n",
      "\tPercentiles:\n",
      "\t\t25th: 1.0\n",
      "\t\t50th: 1.0\n",
      "\t\t75th: 2.0\n",
      "\n",
      "Group: (42.0, 45.0)\n",
      "\tAverage: 1.3363636363636364\n",
      "\tMedian: 1.0\n",
      "\tMode: 2.0\n",
      "\tStandard Deviation: 1.0977437416419413\n",
      "\tPercentiles:\n",
      "\t\t25th: 0.0\n",
      "\t\t50th: 1.0\n",
      "\t\t75th: 2.0\n",
      "\n",
      "Group: (46.0, 49.0)\n",
      "\tAverage: 1.4521739130434783\n",
      "\tMedian: 1.0\n",
      "\tMode: 1.0\n",
      "\tStandard Deviation: 1.21041479243863\n",
      "\tPercentiles:\n",
      "\t\t25th: 1.0\n",
      "\t\t50th: 1.0\n",
      "\t\t75th: 2.0\n",
      "\n",
      "Group: (50.0, 53.0)\n",
      "\tAverage: 1.2869565217391303\n",
      "\tMedian: 1.0\n",
      "\tMode: 0.0\n",
      "\tStandard Deviation: 1.1924780000982556\n",
      "\tPercentiles:\n",
      "\t\t25th: 0.0\n",
      "\t\t50th: 1.0\n",
      "\t\t75th: 2.0\n",
      "\n",
      "Group: (54.0, 57.0)\n",
      "\tAverage: 0.9528301886792453\n",
      "\tMedian: 0.5\n",
      "\tMode: 0.0\n",
      "\tStandard Deviation: 1.1523730681273525\n",
      "\tPercentiles:\n",
      "\t\t25th: 0.0\n",
      "\t\t50th: 1.0\n",
      "\t\t75th: 2.0\n",
      "\n",
      "Group: (58.0, 64.0)\n",
      "\tAverage: 0.6341463414634146\n",
      "\tMedian: 0.0\n",
      "\tMode: 0.0\n",
      "\tStandard Deviation: 1.0477873914151505\n",
      "\tPercentiles:\n",
      "\t\t25th: 0.0\n",
      "\t\t50th: 0.0\n",
      "\t\t75th: 1.0\n"
     ]
    }
   ],
   "source": [
    "show_relationship_statistics(INSURANCE_DATA, 'age', 'children', 10)"
   ]
  },
  {
   "cell_type": "markdown",
   "metadata": {},
   "source": [
    "##### Age and Charges"
   ]
  },
  {
   "cell_type": "code",
   "execution_count": 19,
   "metadata": {
    "ExecuteTime": {
     "end_time": "2023-08-24T00:29:54.429399Z",
     "start_time": "2023-08-24T00:29:48.016645Z"
    }
   },
   "outputs": [
    {
     "name": "stdout",
     "output_type": "stream",
     "text": [
      "Group: (18.0, 21.0)\n",
      "\tAverage: 8138.613823293813\n",
      "\tMedian: 2202.284475\n",
      "\tMode: 1639.5631\n",
      "\tStandard Deviation: 10954.26828258034\n",
      "\tPercentiles:\n",
      "\t\t25th: 1705.6245\n",
      "\t\t50th: 2203.47185\n",
      "\t\t75th: 12890.05765\n",
      "\n",
      "Group: (22.0, 25.0)\n",
      "\tAverage: 10729.783528571428\n",
      "\tMedian: 3232.7784\n",
      "\tMode: 1664.9996\n",
      "\tStandard Deviation: 12817.953986850394\n",
      "\tPercentiles:\n",
      "\t\t25th: 2464.6188\n",
      "\t\t50th: 3238.4357\n",
      "\t\t75th: 18033.9679\n",
      "\n",
      "Group: (26.0, 29.0)\n",
      "\tAverage: 9445.678326756759\n",
      "\tMedian: 4058.71245\n",
      "\tMode: 2302.3\n",
      "\tStandard Deviation: 10619.755194189396\n",
      "\tPercentiles:\n",
      "\t\t25th: 3353.284\n",
      "\t\t50th: 4058.71245\n",
      "\t\t75th: 15006.57945\n",
      "\n",
      "Group: (30.0, 33.0)\n",
      "\tAverage: 11128.321890377358\n",
      "\tMedian: 4990.514125\n",
      "\tMode: 3260.199\n",
      "\tStandard Deviation: 12080.466090870115\n",
      "\tPercentiles:\n",
      "\t\t25th: 4347.02335\n",
      "\t\t50th: 5031.26955\n",
      "\t\t75th: 16776.30405\n",
      "\n",
      "Group: (34.0, 37.0)\n",
      "\tAverage: 13269.712696039604\n",
      "\tMedian: 6198.7518\n",
      "\tMode: 3935.1799\n",
      "\tStandard Deviation: 12752.544343047906\n",
      "\tPercentiles:\n",
      "\t\t25th: 5240.765\n",
      "\t\t50th: 6198.7518\n",
      "\t\t75th: 19496.71917\n",
      "\n",
      "Group: (38.0, 41.0)\n",
      "\tAverage: 10341.599359519229\n",
      "\tMedian: 6867.2203\n",
      "\tMode: 5383.536\n",
      "\tStandard Deviation: 8724.680874301683\n",
      "\tPercentiles:\n",
      "\t\t25th: 6282.235\n",
      "\t\t50th: 6875.961\n",
      "\t\t75th: 8162.71625\n",
      "\n",
      "Group: (42.0, 45.0)\n",
      "\tAverage: 15737.673376181818\n",
      "\tMedian: 8360.443\n",
      "\tMode: 5966.8874\n",
      "\tStandard Deviation: 13126.805586572693\n",
      "\tPercentiles:\n",
      "\t\t25th: 7441.053\n",
      "\t\t50th: 8410.04685\n",
      "\t\t75th: 19964.7463\n",
      "\n",
      "Group: (46.0, 49.0)\n",
      "\tAverage: 14849.841782869564\n",
      "\tMedian: 9414.92\n",
      "\tMode: 7147.105\n",
      "\tStandard Deviation: 10674.29291274941\n",
      "\tPercentiles:\n",
      "\t\t25th: 8556.907\n",
      "\t\t50th: 9414.92\n",
      "\t\t75th: 20878.78443\n",
      "\n",
      "Group: (50.0, 53.0)\n",
      "\tAverage: 16408.95999017392\n",
      "\tMedian: 10579.711\n",
      "\tMode: 8442.667\n",
      "\tStandard Deviation: 11447.280606787917\n",
      "\tPercentiles:\n",
      "\t\t25th: 9722.7695\n",
      "\t\t50th: 10579.711\n",
      "\t\t75th: 21195.818\n",
      "\n",
      "Group: (54.0, 57.0)\n",
      "\tAverage: 16639.69539867924\n",
      "\tMedian: 11835.691125000001\n",
      "\tMode: 9850.432\n",
      "\tStandard Deviation: 10998.714477941478\n",
      "\tPercentiles:\n",
      "\t\t25th: 10982.5013\n",
      "\t\t50th: 11840.77505\n",
      "\t\t75th: 13047.33235\n",
      "\n",
      "Group: (58.0, 64.0)\n",
      "\tAverage: 19766.124609512193\n",
      "\tMedian: 13884.0765\n",
      "\tMode: 11345.519\n",
      "\tStandard Deviation: 11859.623091045036\n",
      "\tPercentiles:\n",
      "\t\t25th: 12815.44495\n",
      "\t\t50th: 13887.204\n",
      "\t\t75th: 25678.77845\n"
     ]
    }
   ],
   "source": [
    "show_relationship_statistics(INSURANCE_DATA, 'age', 'charges', 10)"
   ]
  },
  {
   "cell_type": "markdown",
   "metadata": {},
   "source": [
    "##### BMI and Children"
   ]
  },
  {
   "cell_type": "code",
   "execution_count": 20,
   "metadata": {
    "ExecuteTime": {
     "end_time": "2023-08-24T00:29:54.429833Z",
     "start_time": "2023-08-24T00:29:48.022664Z"
    }
   },
   "outputs": [
    {
     "name": "stdout",
     "output_type": "stream",
     "text": [
      "Group: (15.96, 17.96)\n",
      "\tAverage: 1.0666666666666667\n",
      "\tMedian: 1.0\n",
      "\tMode: 2.0\n",
      "\tStandard Deviation: 0.8537498983243798\n",
      "\tPercentiles:\n",
      "\t\t25th: 0.0\n",
      "\t\t50th: 1.0\n",
      "\t\t75th: 2.0\n",
      "\n",
      "Group: (18.96, 20.96)\n",
      "\tAverage: 1.075\n",
      "\tMedian: 1.0\n",
      "\tMode: 0.0\n",
      "\tStandard Deviation: 1.1042531412678886\n",
      "\tPercentiles:\n",
      "\t\t25th: 0.0\n",
      "\t\t50th: 1.0\n",
      "\t\t75th: 2.0\n",
      "\n",
      "Group: (21.96, 23.96)\n",
      "\tAverage: 1.0786516853932584\n",
      "\tMedian: 1.0\n",
      "\tMode: 0.0\n",
      "\tStandard Deviation: 1.2290922849684918\n",
      "\tPercentiles:\n",
      "\t\t25th: 0.0\n",
      "\t\t50th: 1.0\n",
      "\t\t75th: 2.0\n",
      "\n",
      "Group: (24.96, 26.96)\n",
      "\tAverage: 0.9784172661870504\n",
      "\tMedian: 1.0\n",
      "\tMode: 0.0\n",
      "\tStandard Deviation: 1.1596800966681946\n",
      "\tPercentiles:\n",
      "\t\t25th: 0.0\n",
      "\t\t50th: 1.0\n",
      "\t\t75th: 2.0\n",
      "\n",
      "Group: (27.96, 29.96)\n",
      "\tAverage: 1.1575757575757575\n",
      "\tMedian: 1.0\n",
      "\tMode: 0.0\n",
      "\tStandard Deviation: 1.3024523030946464\n",
      "\tPercentiles:\n",
      "\t\t25th: 0.0\n",
      "\t\t50th: 1.0\n",
      "\t\t75th: 2.0\n",
      "\n",
      "Group: (30.96, 32.96)\n",
      "\tAverage: 1.1125827814569536\n",
      "\tMedian: 1.0\n",
      "\tMode: 0.0\n",
      "\tStandard Deviation: 1.1011315453810788\n",
      "\tPercentiles:\n",
      "\t\t25th: 0.0\n",
      "\t\t50th: 1.0\n",
      "\t\t75th: 2.0\n",
      "\n",
      "Group: (33.96, 35.96)\n",
      "\tAverage: 1.0336134453781514\n",
      "\tMedian: 1.0\n",
      "\tMode: 0.0\n",
      "\tStandard Deviation: 1.159054766357423\n",
      "\tPercentiles:\n",
      "\t\t25th: 0.0\n",
      "\t\t50th: 1.0\n",
      "\t\t75th: 2.0\n",
      "\n",
      "Group: (36.96, 38.96)\n",
      "\tAverage: 1.2531645569620253\n",
      "\tMedian: 1.0\n",
      "\tMode: 0.0\n",
      "\tStandard Deviation: 1.1414886397565063\n",
      "\tPercentiles:\n",
      "\t\t25th: 0.0\n",
      "\t\t50th: 1.0\n",
      "\t\t75th: 2.0\n",
      "\n",
      "Group: (39.96, 41.96)\n",
      "\tAverage: 0.8372093023255814\n",
      "\tMedian: 0.0\n",
      "\tMode: 0.0\n",
      "\tStandard Deviation: 1.2562445428901865\n",
      "\tPercentiles:\n",
      "\t\t25th: 0.0\n",
      "\t\t50th: 0.0\n",
      "\t\t75th: 1.0\n",
      "\n",
      "Group: (42.96, 44.96)\n",
      "\tAverage: 1.1428571428571428\n",
      "\tMedian: 1.0\n",
      "\tMode: 0.0\n",
      "\tStandard Deviation: 1.124858267715973\n",
      "\tPercentiles:\n",
      "\t\t25th: 0.0\n",
      "\t\t50th: 1.0\n",
      "\t\t75th: 2.0\n",
      "\n",
      "Group: (45.96, 53.13)\n",
      "\tAverage: 1.375\n",
      "\tMedian: 1.0\n",
      "\tMode: 1.0\n",
      "\tStandard Deviation: 1.2686114456365274\n",
      "\tPercentiles:\n",
      "\t\t25th: 1.0\n",
      "\t\t50th: 1.0\n",
      "\t\t75th: 2.0\n"
     ]
    }
   ],
   "source": [
    "show_relationship_statistics(INSURANCE_DATA, 'bmi', 'children', 10)"
   ]
  },
  {
   "cell_type": "markdown",
   "metadata": {},
   "source": [
    "##### BMI and Charges"
   ]
  },
  {
   "cell_type": "code",
   "execution_count": 21,
   "metadata": {
    "ExecuteTime": {
     "end_time": "2023-08-24T00:29:54.490160Z",
     "start_time": "2023-08-24T00:29:48.028075Z"
    }
   },
   "outputs": [
    {
     "name": "stdout",
     "output_type": "stream",
     "text": [
      "Group: (15.96, 17.96)\n",
      "\tAverage: 7576.420216666668\n",
      "\tMedian: 3732.6251\n",
      "\tMode: 1621.3402\n",
      "\tStandard Deviation: 8086.446267652353\n",
      "\tPercentiles:\n",
      "\t\t25th: 2585.269\n",
      "\t\t50th: 3732.6251\n",
      "\t\t75th: 6640.54485\n",
      "\n",
      "Group: (18.96, 20.96)\n",
      "\tAverage: 8234.163145000002\n",
      "\tMedian: 6304.47025\n",
      "\tMode: 1241.565\n",
      "\tStandard Deviation: 6427.82919466062\n",
      "\tPercentiles:\n",
      "\t\t25th: 3208.787\n",
      "\t\t50th: 6753.038\n",
      "\t\t75th: 14571.8908\n",
      "\n",
      "Group: (21.96, 23.96)\n",
      "\tAverage: 10113.253969213481\n",
      "\tMedian: 8252.2843\n",
      "\tMode: 1121.8739\n",
      "\tStandard Deviation: 7877.219784725417\n",
      "\tPercentiles:\n",
      "\t\t25th: 3484.331\n",
      "\t\t50th: 8252.2843\n",
      "\t\t75th: 14426.07385\n",
      "\n",
      "Group: (24.96, 26.96)\n",
      "\tAverage: 10791.23693151079\n",
      "\tMedian: 8442.667\n",
      "\tMode: 1615.7667\n",
      "\tStandard Deviation: 8248.254337111828\n",
      "\tPercentiles:\n",
      "\t\t25th: 4239.89265\n",
      "\t\t50th: 8442.667\n",
      "\t\t75th: 14256.1928\n",
      "\n",
      "Group: (27.96, 29.96)\n",
      "\tAverage: 10743.9750006\n",
      "\tMedian: 8516.829\n",
      "\tMode: 1253.936\n",
      "\tStandard Deviation: 7807.74025123305\n",
      "\tPercentiles:\n",
      "\t\t25th: 4564.19145\n",
      "\t\t50th: 8516.829\n",
      "\t\t75th: 13770.0979\n",
      "\n",
      "Group: (30.96, 32.96)\n",
      "\tAverage: 14817.583683443712\n",
      "\tMedian: 10269.46\n",
      "\tMode: 1526.312\n",
      "\tStandard Deviation: 13286.938836876201\n",
      "\tPercentiles:\n",
      "\t\t25th: 5148.5526\n",
      "\t\t50th: 10269.46\n",
      "\t\t75th: 16069.08475\n",
      "\n",
      "Group: (33.96, 35.96)\n",
      "\tAverage: 16397.59603378151\n",
      "\tMedian: 8596.8278\n",
      "\tMode: 1137.011\n",
      "\tStandard Deviation: 15956.543283545772\n",
      "\tPercentiles:\n",
      "\t\t25th: 3987.926\n",
      "\t\t50th: 8596.8278\n",
      "\t\t75th: 34779.615\n",
      "\n",
      "Group: (36.96, 38.96)\n",
      "\tAverage: 16440.953760506334\n",
      "\tMedian: 10226.2842\n",
      "\tMode: 1141.4451\n",
      "\tStandard Deviation: 15137.013500490048\n",
      "\tPercentiles:\n",
      "\t\t25th: 5428.7277\n",
      "\t\t50th: 10226.2842\n",
      "\t\t75th: 20462.99766\n",
      "\n",
      "Group: (39.96, 41.96)\n",
      "\tAverage: 15958.655700000001\n",
      "\tMedian: 10602.385\n",
      "\tMode: 1146.7966\n",
      "\tStandard Deviation: 15382.15863463989\n",
      "\tPercentiles:\n",
      "\t\t25th: 5438.7491\n",
      "\t\t50th: 10602.385\n",
      "\t\t75th: 15555.18875\n",
      "\n",
      "Group: (42.96, 44.96)\n",
      "\tAverage: 13007.450939285714\n",
      "\tMedian: 9300.212925\n",
      "\tMode: 1149.3959\n",
      "\tStandard Deviation: 12767.368416648085\n",
      "\tPercentiles:\n",
      "\t\t25th: 4753.6368\n",
      "\t\t50th: 9541.69555\n",
      "\t\t75th: 11576.13\n",
      "\n",
      "Group: (45.96, 53.13)\n",
      "\tAverage: 18139.171181874997\n",
      "\tMedian: 9649.23785\n",
      "\tMode: 1163.4627\n",
      "\tStandard Deviation: 19127.060022770493\n",
      "\tPercentiles:\n",
      "\t\t25th: 6435.6237\n",
      "\t\t50th: 9748.9106\n",
      "\t\t75th: 44501.3982\n"
     ]
    }
   ],
   "source": [
    "show_relationship_statistics(INSURANCE_DATA, 'bmi', 'charges', 10)"
   ]
  },
  {
   "cell_type": "markdown",
   "metadata": {},
   "source": [
    "##### Children and Charges"
   ]
  },
  {
   "cell_type": "code",
   "execution_count": 22,
   "metadata": {
    "ExecuteTime": {
     "end_time": "2023-08-24T00:29:54.490900Z",
     "start_time": "2023-08-24T00:29:48.032676Z"
    }
   },
   "outputs": [
    {
     "name": "stdout",
     "output_type": "stream",
     "text": [
      "Group: (0.0, 5.0)\n",
      "\tAverage: 13270.422265141257\n",
      "\tMedian: 9382.033\n",
      "\tMode: 1639.5631\n",
      "\tStandard Deviation: 12105.484975561612\n",
      "\tPercentiles:\n",
      "\t\t25th: 4738.2682\n",
      "\t\t50th: 9386.1613\n",
      "\t\t75th: 16586.49771\n"
     ]
    }
   ],
   "source": [
    "show_relationship_statistics(INSURANCE_DATA, 'children', 'charges', 10)"
   ]
  },
  {
   "cell_type": "markdown",
   "metadata": {},
   "source": [
    "#### Relationships (Categorical Fields)"
   ]
  },
  {
   "cell_type": "markdown",
   "metadata": {},
   "source": [
    "For this section, I will create a function that takes in the dataset and the field name and returns the statistics by using the functions for numeric fields I created earlier. This is possible since we're only looking at the relationship between the field and the charges."
   ]
  },
  {
   "cell_type": "code",
   "execution_count": 23,
   "metadata": {
    "ExecuteTime": {
     "end_time": "2023-08-24T00:29:54.491061Z",
     "start_time": "2023-08-24T00:29:48.037356Z"
    }
   },
   "outputs": [],
   "source": [
    "def find_statistics_on_charges_for_categorical_field(data: list[dict], field_name: str):\n",
    "    \"\"\"\n",
    "    Find the average, median, mode, standard deviation and percentiles of the charges for each value of a categorical field in a list of dictionaries.\n",
    "\n",
    "    Args:\n",
    "        data (list): A list of dictionaries.\n",
    "        field_name (str): The name of the field to find the statistics of.\n",
    "\n",
    "    Returns:\n",
    "        dict: A dictionary with the values of the categorical field as keys and a list of the average, median, mode, and standard deviation of the charges for each value of the categorical field as values.\n",
    "    \"\"\"\n",
    "    # Find the unique values of the field\n",
    "    unique_values = set([row[field_name] for row in data])\n",
    "\n",
    "    # Create a dictionary to store the statistics\n",
    "    statistics = {}\n",
    "\n",
    "    # Find the average, median, mode, and standard deviation of the charges for each value of the categorical field\n",
    "    for value in unique_values:\n",
    "        statistics[value] = {}\n",
    "        statistics[value]['average'] = find_average_on_numeric_field(\n",
    "            [row for row in data if row[field_name] == value], 'charges')\n",
    "        statistics[value]['median'] = find_median_on_numeric_field(\n",
    "            [row for row in data if row[field_name] == value], 'charges')\n",
    "        statistics[value]['mode'] = find_mode_on_numeric_field(\n",
    "            [row for row in data if row[field_name] == value], 'charges')\n",
    "        statistics[value]['standard deviation'] = find_standard_deviation_on_numeric_field(\n",
    "            [row for row in data if row[field_name] == value], 'charges')\n",
    "        statistics[value]['percentiles'] = find_percentiles_on_numeric_field(\n",
    "            [row for row in data if row[field_name] == value], 'charges')\n",
    "\n",
    "    return statistics"
   ]
  },
  {
   "cell_type": "markdown",
   "metadata": {},
   "source": [
    "Now that I've created the function, I will use it to find the statistics for each categorical field."
   ]
  },
  {
   "cell_type": "code",
   "execution_count": 24,
   "metadata": {
    "ExecuteTime": {
     "end_time": "2023-08-24T00:29:54.491209Z",
     "start_time": "2023-08-24T00:29:48.040516Z"
    }
   },
   "outputs": [],
   "source": [
    "def show_relationship_statistics_for_categorical_field(data: list[dict], field_name: str):\n",
    "    \"\"\"\n",
    "    Show the relationship statistics between a categorical field and the charges.\n",
    "\n",
    "    Args:\n",
    "        data (list): A list of dictionaries.\n",
    "        field_name (str): The name of the field to find the statistics of.\n",
    "    \"\"\"\n",
    "    calculated_statistics = find_statistics_on_charges_for_categorical_field(data, field_name)\n",
    "\n",
    "    for value, statistics in calculated_statistics.items():\n",
    "        print(f'Value: {value}'\n",
    "              f'\\n\\tAverage: {statistics[\"average\"]}'\n",
    "              f'\\n\\tMedian: {statistics[\"median\"]}'\n",
    "              f'\\n\\tMode: {statistics[\"mode\"]}'\n",
    "              f'\\n\\tStandard Deviation: {statistics[\"standard deviation\"]}'\n",
    "              f'\\n\\tPercentiles:'\n",
    "              f'\\n\\t\\t25th: {statistics[\"percentiles\"][0]}'\n",
    "              f'\\n\\t\\t50th: {statistics[\"percentiles\"][1]}'\n",
    "              f'\\n\\t\\t75th: {statistics[\"percentiles\"][2]}'\n",
    "              f'\\n')"
   ]
  },
  {
   "cell_type": "markdown",
   "metadata": {},
   "source": [
    "We can also plot the statistics for each categorical field using a box plot. For this, I will create a function."
   ]
  },
  {
   "cell_type": "code",
   "execution_count": 25,
   "metadata": {
    "ExecuteTime": {
     "end_time": "2023-08-24T00:29:54.491767Z",
     "start_time": "2023-08-24T00:29:48.044463Z"
    }
   },
   "outputs": [
    {
     "data": {
      "text/plain": "<Figure size 1000x500 with 2 Axes>",
      "image/png": "[encoded data removed]"
     },
     "metadata": {},
     "output_type": "display_data"
    },
    {
     "data": {
      "text/plain": "<Figure size 1000x500 with 2 Axes>",
      "image/png": "[encoded data removed]"
     },
     "metadata": {},
     "output_type": "display_data"
    },
    {
     "data": {
      "text/plain": "<Figure size 1000x500 with 4 Axes>",
      "image/png": "[encoded data removed]"
     },
     "metadata": {},
     "output_type": "display_data"
    }
   ],
   "source": [
    "def create_box_plot_for_categorical_field(data: list[dict], field_name: str):\n",
    "    \"\"\"\n",
    "    Create a box plot for each value of a categorical field in a list of dictionaries.\n",
    "\n",
    "    Args:\n",
    "        data (list): A list of dictionaries.\n",
    "        field_name (str): The name of the field to create the box plot for.\n",
    "    \"\"\"\n",
    "    from matplotlib import pyplot as plt\n",
    "\n",
    "    unique_values = set([row[field_name] for row in data])\n",
    "    fig, axes = plt.subplots(1, len(unique_values), figsize=(10, 5))\n",
    "\n",
    "    for i, value in enumerate(unique_values):\n",
    "        values = [float(row['charges']) for row in data if row[field_name] == value]\n",
    "        axes[i].boxplot(values, vert=False)\n",
    "        axes[i].set_title(value)\n",
    "        axes[i].set_yticklabels([])\n",
    "\n",
    "    plt.show()\n",
    "\n",
    "\n",
    "for field in CATEGORICAL_FIELDS:\n",
    "    create_box_plot_for_categorical_field(INSURANCE_DATA, field)"
   ]
  },
  {
   "cell_type": "markdown",
   "metadata": {},
   "source": [
    "### Conclusion\n",
    "\n",
    "In this notebook, I've found the statistics for the fields in the dataset and found the relationships between the fields.\n",
    "\n",
    "The statistics I found were:\n",
    "- Average\n",
    "- Median\n",
    "- Mode\n",
    "- Standard Deviation\n",
    "- Percentiles\n",
    "\n",
    "The relationships I explored were:\n",
    "- Age and BMI\n",
    "- Age and Children\n",
    "- Age and Charges\n",
    "- BMI and Children\n",
    "- BMI and Charges\n",
    "\n",
    "I also found the relationship between the categorical fields and the charges.\n",
    "\n",
    "This is the end of the project; I will not be analyzing the data that I've found, since that is not the purpose of this project."
   ]
  }
 ],
 "metadata": {
  "kernelspec": {
   "display_name": "Python 3 (ipykernel)",
   "language": "python",
   "name": "python3"
  },
  "language_info": {
   "codemirror_mode": {
    "name": "ipython",
    "version": 3
   },
   "file_extension": ".py",
   "mimetype": "text/x-python",
   "name": "python",
   "nbconvert_exporter": "python",
   "pygments_lexer": "ipython3",
   "version": "3.11.2"
  }
 },
 "nbformat": 4,
 "nbformat_minor": 4
}
