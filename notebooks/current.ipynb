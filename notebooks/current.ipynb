{
 "cells": [
  {
   "cell_type": "markdown",
   "id": "f8983df855b0a30",
   "metadata": {
    "collapsed": false,
    "jupyter": {
     "outputs_hidden": false
    }
   },
   "source": [
    "<div id='title'>\n",
    "<h1>Project: Exploratory Data Analysis of U.S. Medical Insurance Costs</h1>\n",
    "</div>"
   ]
  },
  {
   "cell_type": "markdown",
   "id": "f47cb1b0afffcdb9",
   "metadata": {
    "collapsed": false,
    "jupyter": {
     "outputs_hidden": false
    }
   },
   "source": [
    "<div id='table-of-contents'>\n",
    "<h1>Table of Contents</h1>\n",
    "<ul>\n",
    "    <li><a href=\"title\">Title</a></li>\n",
    "    <li><a href=\"table-of-contents\">Table of Contents</a></li>\n",
    "    <li><a href=\"introduction\">Introduction</a></li>\n",
    "    <ul>\n",
    "        <li><a href=\"project-description\">Project Description</a></li>\n",
    "        <li><a href=\"project-objectives\">Project Objectives</a></li>\n",
    "        <li><a href=\"personal-notes\">Personal Notes</a></li>\n",
    "        <ul>\n",
    "            <li><a href=\"challenges\">Challenges</a></li>\n",
    "            <li><a href=\"learning-goals\">Learning Goals</a></li>\n",
    "        </ul>\n",
    "        <li><a href=\"project-setup\">Project Setup</a></li>\n",
    "    </ul>\n",
    "    <li><a href=\"initial-data-exploration\">Initial Data Exploration</a></li>\n",
    "    <ul>\n",
    "        <li><a href=\"quick-data-overview\">Quick Data Overview</a></li>\n",
    "        <li><a href=\"data-dimensions\">Data Dimensions</a></li>\n",
    "        <li><a href=\"handling-null-values\">Handling Null Values</a></li>\n",
    "        <li><a href=\"handling-duplicate-values\">Handling Duplicate Values</a></li>\n",
    "        <li><a href=\"data-dimensions-after-cleaning\">Data Dimensions After Cleaning</a></li>\n",
    "        <li><a href=\"saving-the-cleaned-data\">Saving the Cleaned Data</a></li>\n",
    "    </ul>\n",
    "    <li><a href=\"exploratory-data-analysis\">Exploratory Data Analysis</a></li>\n",
    "    <ul>\n",
    "        <li><a href=\"data-types\">Data Types</a></li>\n",
    "        <li><a href=\"univariate-analysis\">Univariate Analysis</a></li>\n",
    "        <ul>\n",
    "            <li><a href=\"univariate-descriptive-statistics\">Descriptive Statistics</a></li>\n",
    "            <li><a href=\"univariate-histograms\">Histograms</a></li>\n",
    "            <li><a href=\"univariate-bar-charts\">Bar Charts</a></li>\n",
    "            <li><a href=\"univariate-interpreation\">Interpretation of Univariate Analysis</a></li>\n",
    "            <ul>\n",
    "                <li><a href=\"univariate-interpretation-categorical\">Numerical Variables</a></li>\n",
    "                <ul>\n",
    "                    <li><a href=\"univariate-numerical-interpretation-age\">Age</a></li>\n",
    "                    <li><a href=\"univariate-numerical-interpretation-bmi\">BMI</a></li>\n",
    "                    <li><a href=\"univariate-numerical-interpretation-children\">Children</a></li>\n",
    "                    <li><a href=\"univariate-numerical-interpretation-charges\">Charges</a></li>\n",
    "                </ul>\n",
    "                <li><a href=\"univariate-categorical-interpretation\">Categorical Variables</a></li>\n",
    "                <ul>\n",
    "                    <li><a href=\"univariate-categorical-interpretation-sex\">Sex</a></li>\n",
    "                    <li><a href=\"univariate-categorical-interpretation-smoker\">Smoker</a></li>\n",
    "                    <li><a href=\"univariate-categorical-interpretation-region\">Region</a></li>\n",
    "                </ul>\n",
    "            </ul>\n",
    "        </ul>\n",
    "        <li><a href=\"bivariate-analysis\">Bivariate Analysis</a></li>\n",
    "        <ul>\n",
    "            <li><a href=\"bivariate-charges-versus-age\">Charges versus Age</a></li>\n",
    "            <li><a href=\"bivariate-charges-versus-bmi\">Charges versus BMI</a></li>\n",
    "            <li><a href=\"bivariate-charges-versus-children\">Charges versus Children</a></li>\n",
    "            <li><a href=\"bivariate-charges-versus-sex\">Charges versus Sex</a></li>\n",
    "            <li><a href=\"bivariate-charges-versus-smoker\">Charges versus Smoker</a></li>\n",
    "            <li><a href=\"bivariate-charges-versus-region\">Charges versus Region</a></li>\n",
    "        </ul>\n",
    "        <li><a href=\"summary-of-the-exploratory-data-analysis\">Summary of the Exploratory Data Analysis</a></li>\n",
    "    </ul>\n",
    "    <li><a href=\"conclusions\">Conclusions</a></li>\n",
    "</ul>"
   ]
  },
  {
   "cell_type": "markdown",
   "id": "fef2d54b24b457d8",
   "metadata": {
    "collapsed": false,
    "jupyter": {
     "outputs_hidden": false
    }
   },
   "source": [
    "<div id='introduction'>\n",
    "<h1>Introduction</h1>\n",
    "</div>"
   ]
  },
  {
   "cell_type": "markdown",
   "id": "9db611c0013b219b",
   "metadata": {
    "collapsed": false,
    "jupyter": {
     "outputs_hidden": false
    }
   },
   "source": [
    "<div id='project-description'>\n",
    "<h2>Project Description</h2>\n",
    "<p>(Provided by Codecademy)</p>\n",
    "<p>For this project, you will be investigating a medical insurance costs dataset in a .csv file using the Python skills that you've developed. This dataset and its parameters will seem familiar if you've done any of the previous Python projects in the data science path.</p>\n",
    "<p>However, you're now tasked with working with the actual information in the dataset and performing your own independent analysis on real-world data! We will not be providing step-by-step instructions on what to do, but we will provide you with a framework to structure your exploration and analysis. For this project, you will be investigating a medical insurance costs dataset in a .csv file using the Python skills that you've developed. This dataset and its parameters will seem familiar if you've done any of the previous Python projects in the data science path.</p>\n",
    "</div>"
   ]
  },
  {
   "cell_type": "markdown",
   "id": "5f77e2b38972af49",
   "metadata": {
    "collapsed": false,
    "jupyter": {
     "outputs_hidden": false
    }
   },
   "source": [
    "<div id='project-objectives'>\n",
    "<h2>Project Objectives</h2>\n",
    "<p>(Provided by Codecademy)</p>\n",
    "<ul>\n",
    "    <li>Work locally on your own computer</li>\n",
    "    <li>Import a dataset into a Jupyter Notebook</li>\n",
    "    <li>Analyze a dataset by building out analysis</li>\n",
    "    <li>Share your analysis in a blog post</li>\n",
    "    <li>Optional: Document and organize your findings</li>\n",
    "    <li>Optional: Make predictions about a dataset's features based on your findings</li>\n",
    "</ul>\n",
    "</div>"
   ]
  },
  {
   "cell_type": "markdown",
   "id": "d85d5e53cc27393",
   "metadata": {
    "collapsed": false,
    "jupyter": {
     "outputs_hidden": false
    }
   },
   "source": [
    "<div id='personal-notes'>\n",
    "<h2>Personal Notes</h2>\n",
    "</div>"
   ]
  },
  {
   "cell_type": "markdown",
   "id": "dfeb572995100c18",
   "metadata": {
    "collapsed": false,
    "jupyter": {
     "outputs_hidden": false
    }
   },
   "source": [
    "<div id='challenges'>\n",
    "<h3>Challenges</h3>\n",
    "<ul>\n",
    "    <li>This is intended to be a \"growing\" project. The goal is to improve it with time as I learn more about data science.</li>\n",
    "    <li>This is my first experience working with Git branches, which presents a learning curve for managing different versions of the project effectively.</li>\n",
    "</ul>\n",
    "</div>"
   ]
  },
  {
   "cell_type": "markdown",
   "id": "f401ae204d10695d",
   "metadata": {
    "collapsed": false,
    "jupyter": {
     "outputs_hidden": false
    }
   },
   "source": [
    "<div id='learning-goals'>\n",
    "<h3>Learning Goals</h3>\n",
    "<ul>\n",
    "    <li>Enhance my skills in exploratory data analysis, focusing on the variables and objectives specified by the project description.</li>\n",
    "    <li>Learn the basics of Git branching to manage different stages and updates of this project effectively. This aligns with the challenge of using Git repositories for the first time and will be an invaluable skill for future projects. This will mostly be done using GitHub.</li>"
   ]
  },
  {
   "cell_type": "markdown",
   "id": "ec20c8db342174b3",
   "metadata": {
    "collapsed": false,
    "jupyter": {
     "outputs_hidden": false
    }
   },
   "source": [
    "<div id='project-setup'>\n",
    "<h2>Project Setup</h2>\n",
    "<p>The next code cell will be used to import the necessary libraries and load the dataset into a dataframe.</p>\n",
    "<p>If the output of the next cell outputs \"The source file was not found\", then the source file was not found. The structure for the project should be as it is presented in github. Modifying this structure might lead to problems with this cell.</p>"
   ]
  },
  {
   "cell_type": "code",
   "execution_count": 1,
   "id": "78524c7a4d075296",
   "metadata": {
    "ExecuteTime": {
     "end_time": "2023-09-16T05:23:19.391052Z",
     "start_time": "2023-09-16T05:23:19.294083Z"
    },
    "collapsed": false,
    "jupyter": {
     "outputs_hidden": false
    }
   },
   "outputs": [
    {
     "name": "stdout",
     "output_type": "stream",
     "text": [
      "   age     sex     bmi  children smoker     region      charges\n",
      "0   19  female  27.900         0    yes  southwest  16884.92400\n",
      "1   18    male  33.770         1     no  southeast   1725.55230\n",
      "2   28    male  33.000         3     no  southeast   4449.46200\n",
      "3   33    male  22.705         0     no  northwest  21984.47061\n",
      "4   32    male  28.880         0     no  northwest   3866.85520\n",
      "Versions:\n",
      "Pandas version: 2.0.3\n",
      "Matplotlib version: 3.7.2\n",
      "Scipi version: 1.11.2\n"
     ]
    }
   ],
   "source": [
    "# WARNING: This cell *needs* to be run *first* for the rest of the notebook to work.\n",
    "import pandas as pd\n",
    "import matplotlib.pyplot as plt\n",
    "import scipy\n",
    "\n",
    "# Define the paths to the data files\n",
    "data_path = '../data'\n",
    "raw_data_path = data_path + '/raw'\n",
    "processed_data_path = data_path + '/processed'\n",
    "\n",
    "# Define the path to the source file\n",
    "source_file_path = raw_data_path + '/raw.csv'\n",
    "\n",
    "# Error handling for the source file\n",
    "try:\n",
    "    # Load the source file into a dataframe\n",
    "    main_df = pd.read_csv(source_file_path)\n",
    "except FileNotFoundError:\n",
    "    print('The source file was not found')\n",
    "else:\n",
    "    print(main_df.head())\n",
    "    \n",
    "    # Library versions\n",
    "    print(f'Versions:')\n",
    "    print(f'Pandas version: {pd.__version__}')\n",
    "    print(f'Matplotlib version: {plt.matplotlib.__version__}')  \n",
    "    print(f'Scipi version: {scipy.__version__}')"
   ]
  },
  {
   "cell_type": "markdown",
   "id": "d486dc07657a9cd8",
   "metadata": {
    "collapsed": false,
    "jupyter": {
     "outputs_hidden": false
    }
   },
   "source": [
    "<div id='initial-data-exploration'>\n",
    "<h1>Initial Data Exploration</h2>\n",
    "</div>"
   ]
  },
  {
   "cell_type": "markdown",
   "id": "5017c651fb9832ed",
   "metadata": {
    "collapsed": false,
    "jupyter": {
     "outputs_hidden": false
    }
   },
   "source": [
    "<div id='quick-data-overview'>\n",
    "<h2>Quick Data Overview</h2>\n",
    "<p>Before diving into an analysis of the data, it’s important to get an initial feel for the data. This gives an idea of what the data looks like.</p>\n",
    "</div>"
   ]
  },
  {
   "cell_type": "code",
   "execution_count": 2,
   "id": "5748597dd0c9aeda",
   "metadata": {
    "ExecuteTime": {
     "end_time": "2023-09-16T05:23:19.397601Z",
     "start_time": "2023-09-16T05:23:19.302360Z"
    },
    "collapsed": false,
    "jupyter": {
     "outputs_hidden": false
    }
   },
   "outputs": [
    {
     "data": {
      "text/html": [
       "<div>\n",
       "<style scoped>\n",
       "    .dataframe tbody tr th:only-of-type {\n",
       "        vertical-align: middle;\n",
       "    }\n",
       "\n",
       "    .dataframe tbody tr th {\n",
       "        vertical-align: top;\n",
       "    }\n",
       "\n",
       "    .dataframe thead th {\n",
       "        text-align: right;\n",
       "    }\n",
       "</style>\n",
       "<table border=\"1\" class=\"dataframe\">\n",
       "  <thead>\n",
       "    <tr style=\"text-align: right;\">\n",
       "      <th></th>\n",
       "      <th>age</th>\n",
       "      <th>sex</th>\n",
       "      <th>bmi</th>\n",
       "      <th>children</th>\n",
       "      <th>smoker</th>\n",
       "      <th>region</th>\n",
       "      <th>charges</th>\n",
       "    </tr>\n",
       "  </thead>\n",
       "  <tbody>\n",
       "    <tr>\n",
       "      <th>0</th>\n",
       "      <td>19</td>\n",
       "      <td>female</td>\n",
       "      <td>27.900</td>\n",
       "      <td>0</td>\n",
       "      <td>yes</td>\n",
       "      <td>southwest</td>\n",
       "      <td>16884.92400</td>\n",
       "    </tr>\n",
       "    <tr>\n",
       "      <th>1</th>\n",
       "      <td>18</td>\n",
       "      <td>male</td>\n",
       "      <td>33.770</td>\n",
       "      <td>1</td>\n",
       "      <td>no</td>\n",
       "      <td>southeast</td>\n",
       "      <td>1725.55230</td>\n",
       "    </tr>\n",
       "    <tr>\n",
       "      <th>2</th>\n",
       "      <td>28</td>\n",
       "      <td>male</td>\n",
       "      <td>33.000</td>\n",
       "      <td>3</td>\n",
       "      <td>no</td>\n",
       "      <td>southeast</td>\n",
       "      <td>4449.46200</td>\n",
       "    </tr>\n",
       "    <tr>\n",
       "      <th>3</th>\n",
       "      <td>33</td>\n",
       "      <td>male</td>\n",
       "      <td>22.705</td>\n",
       "      <td>0</td>\n",
       "      <td>no</td>\n",
       "      <td>northwest</td>\n",
       "      <td>21984.47061</td>\n",
       "    </tr>\n",
       "    <tr>\n",
       "      <th>4</th>\n",
       "      <td>32</td>\n",
       "      <td>male</td>\n",
       "      <td>28.880</td>\n",
       "      <td>0</td>\n",
       "      <td>no</td>\n",
       "      <td>northwest</td>\n",
       "      <td>3866.85520</td>\n",
       "    </tr>\n",
       "  </tbody>\n",
       "</table>\n",
       "</div>"
      ],
      "text/plain": [
       "   age     sex     bmi  children smoker     region      charges\n",
       "0   19  female  27.900         0    yes  southwest  16884.92400\n",
       "1   18    male  33.770         1     no  southeast   1725.55230\n",
       "2   28    male  33.000         3     no  southeast   4449.46200\n",
       "3   33    male  22.705         0     no  northwest  21984.47061\n",
       "4   32    male  28.880         0     no  northwest   3866.85520"
      ]
     },
     "execution_count": 2,
     "metadata": {},
     "output_type": "execute_result"
    }
   ],
   "source": [
    "# Display the first five rows of the dataframe\n",
    "main_df.head()"
   ]
  },
  {
   "cell_type": "code",
   "execution_count": 3,
   "id": "e4320ed064de4860",
   "metadata": {
    "ExecuteTime": {
     "end_time": "2023-09-16T05:23:19.409254Z",
     "start_time": "2023-09-16T05:23:19.306937Z"
    },
    "collapsed": false,
    "jupyter": {
     "outputs_hidden": false
    }
   },
   "outputs": [
    {
     "data": {
      "text/html": [
       "<div>\n",
       "<style scoped>\n",
       "    .dataframe tbody tr th:only-of-type {\n",
       "        vertical-align: middle;\n",
       "    }\n",
       "\n",
       "    .dataframe tbody tr th {\n",
       "        vertical-align: top;\n",
       "    }\n",
       "\n",
       "    .dataframe thead th {\n",
       "        text-align: right;\n",
       "    }\n",
       "</style>\n",
       "<table border=\"1\" class=\"dataframe\">\n",
       "  <thead>\n",
       "    <tr style=\"text-align: right;\">\n",
       "      <th></th>\n",
       "      <th>age</th>\n",
       "      <th>sex</th>\n",
       "      <th>bmi</th>\n",
       "      <th>children</th>\n",
       "      <th>smoker</th>\n",
       "      <th>region</th>\n",
       "      <th>charges</th>\n",
       "    </tr>\n",
       "  </thead>\n",
       "  <tbody>\n",
       "    <tr>\n",
       "      <th>1333</th>\n",
       "      <td>50</td>\n",
       "      <td>male</td>\n",
       "      <td>30.97</td>\n",
       "      <td>3</td>\n",
       "      <td>no</td>\n",
       "      <td>northwest</td>\n",
       "      <td>10600.5483</td>\n",
       "    </tr>\n",
       "    <tr>\n",
       "      <th>1334</th>\n",
       "      <td>18</td>\n",
       "      <td>female</td>\n",
       "      <td>31.92</td>\n",
       "      <td>0</td>\n",
       "      <td>no</td>\n",
       "      <td>northeast</td>\n",
       "      <td>2205.9808</td>\n",
       "    </tr>\n",
       "    <tr>\n",
       "      <th>1335</th>\n",
       "      <td>18</td>\n",
       "      <td>female</td>\n",
       "      <td>36.85</td>\n",
       "      <td>0</td>\n",
       "      <td>no</td>\n",
       "      <td>southeast</td>\n",
       "      <td>1629.8335</td>\n",
       "    </tr>\n",
       "    <tr>\n",
       "      <th>1336</th>\n",
       "      <td>21</td>\n",
       "      <td>female</td>\n",
       "      <td>25.80</td>\n",
       "      <td>0</td>\n",
       "      <td>no</td>\n",
       "      <td>southwest</td>\n",
       "      <td>2007.9450</td>\n",
       "    </tr>\n",
       "    <tr>\n",
       "      <th>1337</th>\n",
       "      <td>61</td>\n",
       "      <td>female</td>\n",
       "      <td>29.07</td>\n",
       "      <td>0</td>\n",
       "      <td>yes</td>\n",
       "      <td>northwest</td>\n",
       "      <td>29141.3603</td>\n",
       "    </tr>\n",
       "  </tbody>\n",
       "</table>\n",
       "</div>"
      ],
      "text/plain": [
       "      age     sex    bmi  children smoker     region     charges\n",
       "1333   50    male  30.97         3     no  northwest  10600.5483\n",
       "1334   18  female  31.92         0     no  northeast   2205.9808\n",
       "1335   18  female  36.85         0     no  southeast   1629.8335\n",
       "1336   21  female  25.80         0     no  southwest   2007.9450\n",
       "1337   61  female  29.07         0    yes  northwest  29141.3603"
      ]
     },
     "execution_count": 3,
     "metadata": {},
     "output_type": "execute_result"
    }
   ],
   "source": [
    "# Display the last five rows of the dataframe\n",
    "main_df.tail()"
   ]
  },
  {
   "cell_type": "markdown",
   "id": "354d35bde140f2a5",
   "metadata": {
    "collapsed": false,
    "jupyter": {
     "outputs_hidden": false
    }
   },
   "source": [
    "<p>At a first glance, the dataset seems to be fairly clean. There are no obvious issues and the values are all within a reasonable range.</p>"
   ]
  },
  {
   "cell_type": "markdown",
   "id": "1e4f075209f168",
   "metadata": {
    "collapsed": false,
    "jupyter": {
     "outputs_hidden": false
    }
   },
   "source": [
    "<div id='data-dimensions'>\n",
    "<h2>Data Dimensions</h2>\n",
    "<p>Knowing the shape of the dataset helps to understand the size. This is important for understanding the usage of computational resources.</p>\n",
    "</div>"
   ]
  },
  {
   "cell_type": "code",
   "execution_count": 4,
   "id": "ce2de82d10de4aa7",
   "metadata": {
    "ExecuteTime": {
     "end_time": "2023-09-16T05:23:19.474901Z",
     "start_time": "2023-09-16T05:23:19.310669Z"
    },
    "collapsed": false,
    "jupyter": {
     "outputs_hidden": false
    }
   },
   "outputs": [
    {
     "name": "stdout",
     "output_type": "stream",
     "text": [
      "(1338, 7)\n"
     ]
    }
   ],
   "source": [
    "# Display the shape of the dataframe\n",
    "print(main_df.shape)"
   ]
  },
  {
   "cell_type": "markdown",
   "id": "6127370cc3722554",
   "metadata": {
    "collapsed": false,
    "jupyter": {
     "outputs_hidden": false
    }
   },
   "source": [
    "<p>The database consists of 1338 rows and seven columns. This is a fairly small dataset, which should be easy to work with.</p>"
   ]
  },
  {
   "cell_type": "markdown",
   "id": "3a0004306debe9aa",
   "metadata": {
    "collapsed": false,
    "jupyter": {
     "outputs_hidden": false
    }
   },
   "source": [
    "<div id='handling-null-values'>\n",
    "<h2>Handling Null Values</h2>\n",
    "<p>Null values can cause data analysis and models to misbehave. It's important to know if there are any null values in the dataset and how to handle them.</p>\n",
    "</div>"
   ]
  },
  {
   "cell_type": "code",
   "execution_count": 5,
   "id": "87bc66189516dae3",
   "metadata": {
    "ExecuteTime": {
     "end_time": "2023-09-16T05:23:19.475074Z",
     "start_time": "2023-09-16T05:23:19.313373Z"
    },
    "collapsed": false,
    "jupyter": {
     "outputs_hidden": false
    }
   },
   "outputs": [
    {
     "name": "stdout",
     "output_type": "stream",
     "text": [
      "age         0\n",
      "sex         0\n",
      "bmi         0\n",
      "children    0\n",
      "smoker      0\n",
      "region      0\n",
      "charges     0\n",
      "dtype: int64\n"
     ]
    }
   ],
   "source": [
    "# Check for null values in the dataframe\n",
    "print(main_df.isnull().sum())"
   ]
  },
  {
   "cell_type": "markdown",
   "id": "7aafebe4640f7d84",
   "metadata": {
    "collapsed": false,
    "jupyter": {
     "outputs_hidden": false
    }
   },
   "source": [
    "<p>There are no null values in the dataset. This is good news, as it means that there is no need to handle null values.</p>"
   ]
  },
  {
   "cell_type": "markdown",
   "id": "311f24e731014da1",
   "metadata": {
    "collapsed": false,
    "jupyter": {
     "outputs_hidden": false
    }
   },
   "source": [
    "<div id='handling-duplicate-values'>\n",
    "<h2>Handling Duplicate Values</h2>\n",
    "<p>Duplicate entries mess with the analysis, as they skew the results. It’s important to know if there are any duplicate values in the dataset and how to handle them.</p>\n",
    "</div>"
   ]
  },
  {
   "cell_type": "code",
   "execution_count": 6,
   "id": "d6f541fc944d7e47",
   "metadata": {
    "ExecuteTime": {
     "end_time": "2023-09-16T05:23:19.486918Z",
     "start_time": "2023-09-16T05:23:19.315675Z"
    },
    "collapsed": false,
    "jupyter": {
     "outputs_hidden": false
    }
   },
   "outputs": [
    {
     "name": "stdout",
     "output_type": "stream",
     "text": [
      "     age   sex    bmi  children smoker     region    charges\n",
      "581   19  male  30.59         0     no  northwest  1639.5631\n"
     ]
    }
   ],
   "source": [
    "# Display the duplicate value\n",
    "print(main_df[main_df.duplicated()])"
   ]
  },
  {
   "cell_type": "markdown",
   "id": "7358f03fa948a0e6",
   "metadata": {
    "collapsed": false,
    "jupyter": {
     "outputs_hidden": false
    }
   },
   "source": [
    "<p>It looks like there is a single duplicate value in the dataset. This duplicate could be useful information. Since there are no names or IDs in the dataset, the only clue present to show that this is a duplicate is the charges value. This value is too specific to be a coincidence. For this reason, the duplicate value will be removed and only the first instance will be kept.</p>"
   ]
  },
  {
   "cell_type": "code",
   "execution_count": 7,
   "id": "8ddb30e5aab59dcc",
   "metadata": {
    "ExecuteTime": {
     "end_time": "2023-09-16T05:23:19.490270Z",
     "start_time": "2023-09-16T05:23:19.321085Z"
    },
    "collapsed": false,
    "jupyter": {
     "outputs_hidden": false
    }
   },
   "outputs": [],
   "source": [
    "# Remove the duplicate value\n",
    "main_df.drop_duplicates(inplace=True)"
   ]
  },
  {
   "cell_type": "markdown",
   "id": "7e3682638198745d",
   "metadata": {
    "collapsed": false,
    "jupyter": {
     "outputs_hidden": false
    }
   },
   "source": [
    "<div id='data-dimensions-after-cleaning'>\n",
    "<h2>Data Dimensions After Cleaning</h2>\n",
    "<p>After cleaning the dataset, it's important to check the dimensions again. This will help determine if the cleaning process was successful. In this instance, the number of rows should be reduced by one.</p>\n",
    "</div>"
   ]
  },
  {
   "cell_type": "code",
   "execution_count": 8,
   "id": "92348675cb6460d8",
   "metadata": {
    "ExecuteTime": {
     "end_time": "2023-09-16T05:23:19.490419Z",
     "start_time": "2023-09-16T05:23:19.324398Z"
    },
    "collapsed": false,
    "jupyter": {
     "outputs_hidden": false
    }
   },
   "outputs": [
    {
     "name": "stdout",
     "output_type": "stream",
     "text": [
      "(1337, 7)\n"
     ]
    }
   ],
   "source": [
    "# Display the shape of the dataframe\n",
    "print(main_df.shape)"
   ]
  },
  {
   "cell_type": "markdown",
   "id": "27e9f9ccf3e57be9",
   "metadata": {
    "collapsed": false,
    "jupyter": {
     "outputs_hidden": false
    }
   },
   "source": [
    "<p>The number of rows has been reduced by one, which means that the duplicate value was successfully removed.</p>"
   ]
  }
 ],
 "metadata": {
  "kernelspec": {
   "display_name": "Python 3 (ipykernel)",
   "language": "python",
   "name": "python3"
  },
  "language_info": {
   "codemirror_mode": {
    "name": "ipython",
    "version": 3
   },
   "file_extension": ".py",
   "mimetype": "text/x-python",
   "name": "python",
   "nbconvert_exporter": "python",
   "pygments_lexer": "ipython3",
   "version": "3.11.2"
  }
 },
 "nbformat": 4,
 "nbformat_minor": 5
}
